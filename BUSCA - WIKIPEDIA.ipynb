{
 "cells": [
  {
   "cell_type": "markdown",
   "metadata": {},
   "source": [
    "# Wikipedia \n",
    "\n",
    "### Uma das principais fontes de pesquisa pública da internet, como cientísta de dados, é indispensável saber fazer requisições de dados através da API disponibilizada pela plataforma, e através deste script em Python, é possível além de fazer requisições, criar DataFrame para Análises Exploratórias.\n",
    "\n",
    "### Abaixo é possível obter uma descrição mais detalhada das particularidades desta plataforma de informações."
   ]
  },
  {
   "cell_type": "markdown",
   "metadata": {},
   "source": [
    "<img src=\"logo.jpg\" width=\"700\">"
   ]
  },
  {
   "cell_type": "code",
   "execution_count": 1,
   "metadata": {
    "colab": {
     "base_uri": "https://localhost:8080/"
    },
    "executionInfo": {
     "elapsed": 5653,
     "status": "ok",
     "timestamp": 1624714772144,
     "user": {
      "displayName": "Leonardo Mendonza",
      "photoUrl": "https://lh3.googleusercontent.com/a-/AOh14Gj5F1JVSmHodKCvWHgDPYmDyFo_nUl5lqEXNbsW=s64",
      "userId": "09205135724810578413"
     },
     "user_tz": 180
    },
    "id": "S8B1U0SdBYWE",
    "outputId": "24437560-a070-436c-9424-86efac82006d"
   },
   "outputs": [
    {
     "name": "stdout",
     "output_type": "stream",
     "text": [
      "Collecting wikipedia\n",
      "  Downloading wikipedia-1.4.0.tar.gz (27 kB)\n",
      "Requirement already satisfied: beautifulsoup4 in c:\\users\\crisj\\anaconda3\\lib\\site-packages (from wikipedia) (4.9.3)\n",
      "Requirement already satisfied: requests<3.0.0,>=2.0.0 in c:\\users\\crisj\\anaconda3\\lib\\site-packages (from wikipedia) (2.25.1)\n",
      "Requirement already satisfied: certifi>=2017.4.17 in c:\\users\\crisj\\anaconda3\\lib\\site-packages (from requests<3.0.0,>=2.0.0->wikipedia) (2020.12.5)\n",
      "Requirement already satisfied: urllib3<1.27,>=1.21.1 in c:\\users\\crisj\\anaconda3\\lib\\site-packages (from requests<3.0.0,>=2.0.0->wikipedia) (1.26.4)\n",
      "Requirement already satisfied: idna<3,>=2.5 in c:\\users\\crisj\\anaconda3\\lib\\site-packages (from requests<3.0.0,>=2.0.0->wikipedia) (2.10)\n",
      "Requirement already satisfied: chardet<5,>=3.0.2 in c:\\users\\crisj\\anaconda3\\lib\\site-packages (from requests<3.0.0,>=2.0.0->wikipedia) (4.0.0)\n",
      "Requirement already satisfied: soupsieve>1.2 in c:\\users\\crisj\\anaconda3\\lib\\site-packages (from beautifulsoup4->wikipedia) (2.2.1)\n",
      "Building wheels for collected packages: wikipedia\n",
      "  Building wheel for wikipedia (setup.py): started\n",
      "  Building wheel for wikipedia (setup.py): finished with status 'done'\n",
      "  Created wheel for wikipedia: filename=wikipedia-1.4.0-py3-none-any.whl size=11686 sha256=d5e7c1a44cf1586db146c17cb7593cbbff26c910c6681baf266c16a0b0fc74ad\n",
      "  Stored in directory: c:\\users\\crisj\\appdata\\local\\pip\\cache\\wheels\\07\\93\\05\\72c05349177dca2e0ba31a33ba4f7907606f7ddef303517c6a\n",
      "Successfully built wikipedia\n",
      "Installing collected packages: wikipedia\n",
      "Successfully installed wikipedia-1.4.0\n"
     ]
    }
   ],
   "source": [
    "!pip install wikipedia"
   ]
  },
  {
   "cell_type": "code",
   "execution_count": 2,
   "metadata": {
    "executionInfo": {
     "elapsed": 362,
     "status": "ok",
     "timestamp": 1624714772503,
     "user": {
      "displayName": "Leonardo Mendonza",
      "photoUrl": "https://lh3.googleusercontent.com/a-/AOh14Gj5F1JVSmHodKCvWHgDPYmDyFo_nUl5lqEXNbsW=s64",
      "userId": "09205135724810578413"
     },
     "user_tz": 180
    },
    "id": "IVKj78EeBZWD"
   },
   "outputs": [],
   "source": [
    "import wikipedia\n",
    "import pandas as pd"
   ]
  },
  {
   "cell_type": "code",
   "execution_count": 3,
   "metadata": {
    "colab": {
     "base_uri": "https://localhost:8080/"
    },
    "executionInfo": {
     "elapsed": 900,
     "status": "ok",
     "timestamp": 1624714773400,
     "user": {
      "displayName": "Leonardo Mendonza",
      "photoUrl": "https://lh3.googleusercontent.com/a-/AOh14Gj5F1JVSmHodKCvWHgDPYmDyFo_nUl5lqEXNbsW=s64",
      "userId": "09205135724810578413"
     },
     "user_tz": 180
    },
    "id": "BODfMDkIFT62",
    "outputId": "9c3b9f7b-2a5c-4d22-cba5-20b5f7ff2f1a"
   },
   "outputs": [
    {
     "name": "stdout",
     "output_type": "stream",
     "text": [
      "The Wikimedia movement, or simply Wikimedia, is the global community of contributors to Wikimedia Foundation projects. The movement was created around Wikipedia's community, and has since expanded to the other Wikimedia projects, including the commons projects Wikimedia Commons and Wikidata, and volunteer software engineers and developers contributing to MediaWiki. These volunteers are supported by numerous organizations around the world, including the Wikimedia Foundation, related chapters, thematic organizations, and user groups.\n",
      "The name \"Wikimedia\", a compound of wiki and media, was coined by American author Sheldon Rampton in a post to the English mailing list in March 2003, three months after Wiktionary became the second wiki-based project hosted on Jimmy Wales' platform, and three months before the Wikimedia Foundation was announced and incorporated. \"Wikimedia\" may also refer to the Wikimedia projects.\n"
     ]
    }
   ],
   "source": [
    "print(wikipedia.summary(\"Wikipedia\"))"
   ]
  },
  {
   "cell_type": "code",
   "execution_count": 4,
   "metadata": {
    "executionInfo": {
     "elapsed": 14,
     "status": "ok",
     "timestamp": 1624714773402,
     "user": {
      "displayName": "Leonardo Mendonza",
      "photoUrl": "https://lh3.googleusercontent.com/a-/AOh14Gj5F1JVSmHodKCvWHgDPYmDyFo_nUl5lqEXNbsW=s64",
      "userId": "09205135724810578413"
     },
     "user_tz": 180
    },
    "id": "6Ahbop4jBw4U"
   },
   "outputs": [],
   "source": [
    "wikipedia.set_lang(\"pt\")"
   ]
  },
  {
   "cell_type": "code",
   "execution_count": 5,
   "metadata": {
    "colab": {
     "base_uri": "https://localhost:8080/"
    },
    "executionInfo": {
     "elapsed": 671,
     "status": "ok",
     "timestamp": 1624714774062,
     "user": {
      "displayName": "Leonardo Mendonza",
      "photoUrl": "https://lh3.googleusercontent.com/a-/AOh14Gj5F1JVSmHodKCvWHgDPYmDyFo_nUl5lqEXNbsW=s64",
      "userId": "09205135724810578413"
     },
     "user_tz": 180
    },
    "id": "TNkYiGuqB3Xz",
    "outputId": "45689142-bd1a-441f-c33d-bebe382fb48b"
   },
   "outputs": [
    {
     "name": "stdout",
     "output_type": "stream",
     "text": [
      "A Wikipédia é um projeto de enciclopédia multilíngue de licença livre, baseado na web e escrito de maneira colaborativa. O projeto encontra-se sob administração da Fundação Wikimedia, uma organização sem fins lucrativos cuja missão é \"empoderar e engajar pessoas pelo mundo para coletar e desenvolver conteúdo educacional sob uma licença livre ou no domínio público, e para disseminá-lo efetivamente e globalmente\". Integrando um dos vários projetos mantidos pela Wikimedia, os mais de 51 milhões de artigos (1 073 848 em português, até 25 de agosto de 2021) hoje encontrados na Wikipédia foram escritos de forma conjunta por diversos voluntários ao redor do mundo. Quase todos os verbetes presentes no sítio eletrônico podem igualmente ser editados por qualquer pessoa com acesso à internet e ao endereço eletrônico. Em janeiro de 2020, havia edições ativas da Wikipédia em 299 idiomas. A Wikipédia foi lançada em 15 de janeiro de 2001 por Jimmy Wales e Larry Sanger e tornou-se a maior e mais popular obra de referência geral na internet, sendo classificada em novembro de 2018, na quinta posição entre todos os websites do Alexa. Em 2010, tinha cerca de 365 milhões de leitores. A Wikipédia é uma ferramenta de pesquisa amplamente utilizada por estudantes e tem influenciado o trabalho de publicitários, pedagogos, sociólogos e jornalistas, que usam seu material, mesmo que nem sempre citem suas fontes.O nome Wikipedia foi criado por Larry Sanger e é uma combinação de wiki (uma tecnologia para criar sites colaborativos, a partir da palavra havaiana wiki, que significa \"rápido\") e enciclopédia. A palavra \"Wikipédia\" é uma adequação lusófona da forma original anglófona sobre a fusão dos dois nomes que formam o termo. Em português, o prefixo \"Wiki\" é somado ao sufixo de \"enciclopédia\", ganhando acento diacrítico agudo no e, para atender à gramática lusófona.\n",
      "A Wikipédia afasta-se do estilo tradicional de construção de uma enciclopédia, possuindo uma grande presença de conteúdo não acadêmico. Quando a revista Time reconheceu \"Você\" como a Pessoa do Ano de 2006, devido ao sucesso acelerado da colaboração online e da interação de milhões de usuários ao redor do mundo, citou a Wikipédia como um dos vários exemplos de serviços da Web 2.0, juntamente com YouTube, MySpace e Facebook. A importância da Wikipédia tem sido notada não apenas como uma referência enciclopédica, mas também como um recurso de notícias atualizado com frequência, por conta da rapidez com que artigos sobre acontecimentos recentes aparecem. Estudantes têm sido orientados a escrever artigos para a Wikipédia como um exercício de explicar de forma clara e sucinta conceitos difíceis para um público não iniciado.Embora as políticas da Wikipédia defendam fortemente a verificabilidade e um ponto de vista neutro, seus críticos acusam-na de viés sistêmico e inconsistências (incluindo o peso excessivo dado à cultura de massa) e alegam que ela favorece o consenso sobre credenciais em seus processos editoriais. Sua confiabilidade e precisão também são alvo de críticas. Outras críticas apontam a sua suscetibilidade ao vandalismo e à adição de informações falsas ou não verificadas. No entanto, trabalhos acadêmicos sugerem que os vandalismos são geralmente de curta duração. Uma pesquisa de 2005 na revista Nature mostrou que os artigos científicos que eles compararam chegavam perto do nível de precisão da Encyclopædia Britannica e tinham uma taxa semelhante de \"erros graves\". Outra pesquisa de 2011 realizada pelo ForeSee Results e divulgada pela CNET mostrou que, em uma escala de satisfação de 0 a 100, os internautas atribuíram 78 pontos à Wikipédia, um resultado maior que o de outros sites consagrados, como YouTube e Facebook.\n"
     ]
    }
   ],
   "source": [
    "print(wikipedia.summary(\"Wikipedia\"))"
   ]
  },
  {
   "cell_type": "code",
   "execution_count": 6,
   "metadata": {
    "colab": {
     "base_uri": "https://localhost:8080/"
    },
    "executionInfo": {
     "elapsed": 382,
     "status": "ok",
     "timestamp": 1624714774439,
     "user": {
      "displayName": "Leonardo Mendonza",
      "photoUrl": "https://lh3.googleusercontent.com/a-/AOh14Gj5F1JVSmHodKCvWHgDPYmDyFo_nUl5lqEXNbsW=s64",
      "userId": "09205135724810578413"
     },
     "user_tz": 180
    },
    "id": "qXwdQG5wBZTb",
    "outputId": "e623ae3d-a58f-4f2d-f3df-da488d3c13cc"
   },
   "outputs": [
    {
     "data": {
      "text/plain": [
       "['Rio de Janeiro',\n",
       " 'Rio de Janeiro (estado)',\n",
       " 'Metrô do Rio de Janeiro',\n",
       " 'Região Metropolitana do Rio de Janeiro',\n",
       " 'Lista de bairros da cidade do Rio de Janeiro',\n",
       " 'Milícia (criminalidade no Brasil)',\n",
       " 'Bandeira do estado do Rio de Janeiro',\n",
       " 'Lista de governadores do Rio de Janeiro',\n",
       " 'Lista de escolas de samba e blocos carnavalescos do Rio de Janeiro',\n",
       " 'Os quatro grandes do Rio de Janeiro']"
      ]
     },
     "execution_count": 6,
     "metadata": {},
     "output_type": "execute_result"
    }
   ],
   "source": [
    "wikipedia.search(\"Rio de Janeiro\")"
   ]
  },
  {
   "cell_type": "code",
   "execution_count": 7,
   "metadata": {
    "executionInfo": {
     "elapsed": 464,
     "status": "ok",
     "timestamp": 1624714774901,
     "user": {
      "displayName": "Leonardo Mendonza",
      "photoUrl": "https://lh3.googleusercontent.com/a-/AOh14Gj5F1JVSmHodKCvWHgDPYmDyFo_nUl5lqEXNbsW=s64",
      "userId": "09205135724810578413"
     },
     "user_tz": 180
    },
    "id": "x_MJsZLcBZQ9"
   },
   "outputs": [],
   "source": [
    "result = wikipedia.page(\"Rio de Janeiro\")"
   ]
  },
  {
   "cell_type": "code",
   "execution_count": 8,
   "metadata": {
    "colab": {
     "base_uri": "https://localhost:8080/",
     "height": 35
    },
    "executionInfo": {
     "elapsed": 8,
     "status": "ok",
     "timestamp": 1624714774901,
     "user": {
      "displayName": "Leonardo Mendonza",
      "photoUrl": "https://lh3.googleusercontent.com/a-/AOh14Gj5F1JVSmHodKCvWHgDPYmDyFo_nUl5lqEXNbsW=s64",
      "userId": "09205135724810578413"
     },
     "user_tz": 180
    },
    "id": "yToLBfxBBZOc",
    "outputId": "2d926dd8-ed11-4cf7-f516-18b8ba2b0a28"
   },
   "outputs": [
    {
     "data": {
      "text/plain": [
       "'Rio de Janeiro'"
      ]
     },
     "execution_count": 8,
     "metadata": {},
     "output_type": "execute_result"
    }
   ],
   "source": [
    "result.title"
   ]
  },
  {
   "cell_type": "code",
   "execution_count": 9,
   "metadata": {
    "colab": {
     "base_uri": "https://localhost:8080/",
     "height": 35
    },
    "executionInfo": {
     "elapsed": 7,
     "status": "ok",
     "timestamp": 1624714774902,
     "user": {
      "displayName": "Leonardo Mendonza",
      "photoUrl": "https://lh3.googleusercontent.com/a-/AOh14Gj5F1JVSmHodKCvWHgDPYmDyFo_nUl5lqEXNbsW=s64",
      "userId": "09205135724810578413"
     },
     "user_tz": 180
    },
    "id": "MY6uSNoNBZLX",
    "outputId": "6c20e26c-0fe7-4503-fd07-0070840f0845"
   },
   "outputs": [
    {
     "data": {
      "text/plain": [
       "'https://pt.wikipedia.org/wiki/Rio_de_Janeiro'"
      ]
     },
     "execution_count": 9,
     "metadata": {},
     "output_type": "execute_result"
    }
   ],
   "source": [
    "result.url"
   ]
  },
  {
   "cell_type": "code",
   "execution_count": 10,
   "metadata": {
    "colab": {
     "base_uri": "https://localhost:8080/",
     "height": 137
    },
    "executionInfo": {
     "elapsed": 7355,
     "status": "ok",
     "timestamp": 1624714782251,
     "user": {
      "displayName": "Leonardo Mendonza",
      "photoUrl": "https://lh3.googleusercontent.com/a-/AOh14Gj5F1JVSmHodKCvWHgDPYmDyFo_nUl5lqEXNbsW=s64",
      "userId": "09205135724810578413"
     },
     "user_tz": 180
    },
    "id": "lBCTBn4UBZIv",
    "outputId": "2005ab9d-d337-4f2a-8e01-fe19eba77e74"
   },
   "outputs": [
    {
     "data": {
      "text/plain": [
       "'Rio de Janeiro (informalmente referida como Rio) é um município brasileiro, capital do estado homônimo, situado no Sudeste do país. Maior destino turístico internacional no Brasil, da América Latina e de todo o Hemisfério Sul, a capital fluminense é a cidade brasileira mais conhecida no exterior, funcionando como um \"espelho\", ou \"retrato\" nacional, seja positiva ou negativamente. É a segunda maior metrópole do Brasil (depois de São Paulo), a sexta maior da América e a trigésima quinta do mundo. Sua população estimada pelo IBGE para 1.º de julho de 2020 era de 6 747 815 habitantes. Tem o epíteto de Cidade Maravilhosa e aquele que nela nasce é chamado de carioca.\\nÉ um dos principais centros econômicos, culturais e financeiros do país, sendo internacionalmente conhecida por diversos ícones culturais e paisagísticos, como o Pão de Açúcar, o morro do Corcovado com a estátua do Cristo Redentor, as praias dos bairros de Copacabana, Ipanema e Barra da Tijuca, entre outras; os estádios do Maracanã e Nilton Santos; o bairro boêmio da Lapa e seus arcos; o Theatro Municipal do Rio de Janeiro; as florestas da Tijuca e da Pedra Branca; a Quinta da Boa Vista; a Biblioteca Nacional; a ilha de Paquetá; o réveillon de Copacabana; o carnaval carioca; a Bossa Nova e o samba. Parte da cidade foi designada Patrimônio Cultural da Humanidade pela UNESCO em 1 de julho de 2012.Representa o segundo maior PIB do país (e o 30º maior do mundo), estimado em cerca de 329 bilhões de reais (IBGE/2016), e é sede das duas maiores empresas brasileiras - a Petrobras e a Vale, e das principais companhias de petróleo e telefonia do Brasil, além do maior conglomerado de empresas de mídia e comunicações da América Latina, o Grupo Globo. Contemplado por grande número de universidades e institutos, é o segundo maior polo de pesquisa e desenvolvimento do Brasil, responsável por 19% da produção científica nacional, segundo dados de 2005. Rio de Janeiro é considerada uma cidade global beta - pelo inventário de 2008 da Universidade de Loughborough (GaWC).\\nA cidade foi, sucessivamente, capital da colônia portuguesa do Estado do Brasil (1763-1815), depois do Reino Unido de Portugal, Brasil e Algarves (1815-1822), do Império do Brasil (1822-1889) e da República dos Estados Unidos do Brasil (1889-1968) até 1960, quando a sede do governo foi transferida definitivamente para a recém-construída Brasília. Neste ano, o Rio foi transformado em uma cidade-estado com o nome de Guanabara e, somente em 1975, torna-se a capital do estado do Rio de Janeiro após sua fusão com a Guanabara.\\n\\n\\n== Etimologia ==\\nA Baía de Guanabara, à margem da qual a cidade se organizou, foi descoberta pelo explorador português Gaspar de Lemos em 1 de janeiro de 1502. Embora se afirme que o nome \"Rio de Janeiro\" tenha sido escolhido em virtude de os portugueses acreditarem tratar-se a baía da foz de um rio, na verdade, à época, não havia qualquer distinção de nomenclatura entre rios, sacos e baías - motivo pelo qual foi o corpo d\\'água corretamente designado como rio.\\n\\n\\n== História ==\\n\\n\\n=== Colonização portuguesa e invasões estrangeiras ===\\n\\nO litoral do atual estado do Rio de Janeiro era habitado por índios do tronco linguístico macro-jê há milhares de anos. Por volta do ano 1000, a região foi conquistada por povos de língua tupi procedentes da Amazônia. Um destes povos, os tamoios, também conhecidos como tupinambás, ocupava a região ao redor da Baía de Guanabara no século XVI, quando os portugueses chegaram à região.\\n\\nA Baía de Guanabara, à margem da qual a cidade foi fundada, foi descoberta pelo explorador português Gaspar de Lemos em 1 de janeiro de 1502. No entanto, em 1 de novembro de 1555, os franceses, capitaneados por Nicolas Durand de Villegagnon, apossaram-se da Baía da Guanabara, estabelecendo uma colônia na ilha de Sergipe (atual ilha de Villegagnon). Lá, ergueram o Forte Coligny, enquanto consolidavam alianças com os índios tupinambás locais. Enquanto isso, os portugueses se aliaram a um grupo indígena rival dos tupinambás, os temiminós e foi com o auxílio destes que atacaram e destruíram a colônia francesa em 1560. Os franceses só foram completamente expulsos da região pelos portugueses em 1567.Persistindo a presença francesa na região, os portugueses, sob o comando de Estácio de Sá, acompanhado por um grupo de fundadores incluindo também D. Antônio de Mariz, desembarcaram num istmo entre o Morro Cara de Cão e o Morro do Pão de Açúcar, fundando, a 1 de março de 1565, a cidade de \"São Sebastião do Rio de Janeiro\". Uma vez conquistado o território, em uma pequena praia protegida pelo Morro do Pão de Açúcar, edificaram uma fortificação de faxina e terra, o embrião da Fortaleza de São João.A expulsão e derrota definitiva dos franceses e seus aliados indígenas, no entanto, só se deu em janeiro de 1567. A vitória de Estácio de Sá, subjugando elementos remanescentes franceses (os quais, aliados aos tamoios, dedicavam-se ao comércio e ameaçavam o domínio português na costa do Brasil), garantiu a posse do Rio de Janeiro, rechaçando, a partir daí, novas tentativas de invasões estrangeiras e expandindo, à custa de guerras, seu domínio sobre as ilhas e o continente. A povoação foi refundada no alto do antigo Morro do Castelo, que se localizava no atual centro da cidade. O morro foi removido em 1922 como parte de uma reforma urbanística. O novo povoado marcou o começo de fato da expansão da cidade.Durante quase todo o século XVII, a cidade acenou com um desenvolvimento lento. Uma rede de pequenas ruelas conectava entre si as igrejas, ligando-as ao Paço e ao Mercado do Peixe, à beira do cais. A partir delas, nasceram as principais ruas do atual Centro. Com cerca de 30 000 habitantes na segunda metade do século XVII, o Rio de Janeiro tornara-se a cidade mais populosa do Brasil, passando a ter importância fundamental para o domínio colonial.Essa importância tornou-se ainda maior com a exploração de jazidas de ouro em Minas Gerais, no século XVIII: a proximidade levou à consolidação da cidade como proeminente centro portuário e econômico. Em 1763, o ministro português Marquês de Pombal transferiu a sede da colônia de Salvador para o Rio de Janeiro.\\n\\n\\n=== Vinda da corte portuguesa e período imperial ===\\n\\nA vinda da corte portuguesa, em 1808, marcaria profundamente a cidade, então convertida no centro de decisão do Império Português, debilitado com as guerras napoleônicas. Após a Abertura dos Portos, tornou-se um proeminente centro comercial. Nos primeiros decênios, foram criados diversos estabelecimentos de ensino, como a Academia Militar, a Escola Real de Ciências, Artes e Ofícios e a Academia Imperial de Belas Artes, além da Biblioteca Nacional - com o maior acervo da América Latina - e o Jardim Botânico. O primeiro jornal impresso do Brasil, a Gazeta do Rio de Janeiro, entrou em circulação nesse período. Foi a única cidade no mundo a sediar um império europeu fora da Europa.Foi a capital do Brasil de 1763 a 1960, quando o governo transferiu-se para Brasília. Entre 1808 e 1815, foi capital do Reino Unido de Portugal, Brasil e Algarves, como era oficialmente designado Portugal na época. Entre 1815 e abril de 1821, sediou o Reino Unido de Portugal, Brasil e Algarves, após elevação do Brasil à parte integrante do reino unido supracitado.Após a Independência do Brasil (1822), a cidade tornou-se a capital do Império do Brasil, enquanto a província enriquecia com a agricultura canavieira da região de Campos e, principalmente, com o novo cultivo do café no Vale do Paraíba. Em 1823, o Rio de Janeiro recebeu o título de Muito Leal e Heroica por carta imperial de D. Pedro I, por seus habitantes terem apoiado o então príncipe regente em sua decisão de permanecer no Brasil, no que viria ser conhecido como Dia do Fico. De modo a separar a província da capital do Império, a cidade foi convertida, no ano de 1834, em Município Neutro, passando a província do Rio de Janeiro a ter Niterói como capital.Como centro político do país, o \"Rio\" concentrava a vida político-partidária do Império. Foi palco principal dos movimentos abolicionista e republicano na metade final do século XIX. Durante a República Velha (1889-1930), com a decadência de suas áreas cafeeiras, o estado do Rio de Janeiro perdeu força política para São Paulo e Minas Gerais.\\n\\n\\n=== Período republicano ===\\n\\nCom a Proclamação da República, nas últimas décadas do século XIX e início do XX, o Rio de Janeiro enfrentava graves problemas sociais advindos do crescimento rápido e desordenado. Com o declínio do trabalho escravo, a cidade passara a receber grandes contingentes de imigrantes europeus e de ex-escravos, atraídos pelas oportunidades que ali se abriam ao trabalho assalariado. Entre 1872 e 1890, sua população duplicou, passando de 274 mil para 522 mil habitantes.O aumento da pobreza agravou a crise habitacional, traço constante na vida urbana do Rio desde meados do século XIX. O epicentro dessa crise era ainda, e cada vez mais, o miolo central - a Cidade Velha e suas adjacências -, onde se multiplicavam os Cortiços e eclodiam as violentas epidemias de febre amarela, varíola, cólera-morbo, que conferiam à cidade fama internacional de porto sujo.Muitas campanhas de erradicação, perpetradas pelos governos da época, não foram bem recebidas pela população carioca. Houve muitas revoltas populares, entre elas, a Revolta da Vacina, de 1904, que também teve como causa a tomada de medidas impopulares, como as reformas urbanas do centro, executadas pelo engenheiro Pereira Passos. Vários cortiços foram demolidos e a população pobre da região central deslocada para as encostas de morros, na zona portuária e no Caju, sobretudo os morros da Saúde e da Providência.\\n\\nTais povoamentos cresceram de maneira desordenada, dando início ao processo de favelização (ainda não muito preocupante na época) - o que não impediu a adoção de várias outras reformas urbanas e sanitárias que modificaram a imagem da então capital da República. Data desse período a abertura do Theatro Municipal e da Avenida Rio Branco, com os edifícios inspirados em elementos da Belle Époque parisiense, e a inauguração, em 1908, do Bondinho do Pão de Açúcar, um dos marcos da engenharia brasileira, em comemoração aos 100 anos da Abertura dos Portos.A ocupação da atual zona sul efetivou-se com a abertura do Túnel Velho, que fazia a conexão entre Botafogo e Copacabana. O surgimento do Copacabana Palace, em 1923, consagrou definitivamente o processo de ocupação e o turismo na região, que experimentou uma explosão demográfica. O Cristo Redentor seria inaugurado em 1931, tornando-se um dos cartões-postais do Rio e do Brasil. Após a transferência da Capital Federal para Brasília em 1960, o Rio foi transformado numa cidade-estado com o nome de Guanabara. Em 15 de março de 1975 ocorreu a fusão com o antigo estado do Rio de Janeiro e, em 23 de julho, foi promulgada a sua constituição.Em 1992, sediou a Conferência das Nações Unidas sobre Meio Ambiente e Desenvolvimento (CNUCED), mais conhecida como Rio-92, ou ECO-92 - a primeira conferência internacional de peso realizada após o fim da Guerra Fria, com a presença de delegações de 175 países. Em 2007, foi sede dos Jogos Pan-Americanos, ocasião à qual realizou investimentos em estruturas esportivas (incluindo a construção do Estádio Nilton Santos) e nas áreas de transportes, segurança pública e infraestrutura urbana; e de sete jogos da Copa do Mundo de 2014. Ainda no âmbito esportivo, a cidade também sediou os Jogos Olímpicos de Verão de 2016.\\n\\nEntre a noite de sábado, 20 de novembro, até o dia 27 de novembro de 2010, sucederam-se na Região Metropolitana do Rio de Janeiro vários atos de violência organizada. Durante os ataques e depois, durante as operações, registrou-se que pelo menos 181 veículos teriam sido incendiados pelos criminosos. Nesse período, ocorreram ainda 39 mortes, cerca de duzentas detenções para averiguação e quase setenta prisões.No dia 25 de novembro, deu-se a maior ofensiva da Polícia Militar do Rio de Janeiro, com seu Batalhão de Operações Policiais Especiais (BOPE)  atuando ao lado da Polícia Civil do Rio de Janeiro, encabeçada pela Coordenadoria de Recursos Especiais (CORE) e em parceria com o Corpo de Fuzileiros Navais, que disponibilizou seis blindados e um grupamento de fuzileiros navais da mesma unidade para apoio logístico da operação, que resultou na ocupação do território da Vila Cruzeiro e do Complexo do Alemão, regiões da cidade que até então estava em poder dos narcotraficantes do Comando Vermelho.Em 1 de julho de 2012, a Organização das Nações Unidas para a Educação, a Ciência e a Cultura (UNESCO) designou parte da cidade como Patrimônio Cultural da Humanidade e, em 18 de janeiro de 2019, a mesma instituição elegeu o Rio de Janeiro como a primeira Capital Mundial da Arquitetura.\\n\\n\\n== Geografia ==\\n\\nDe acordo com a divisão regional vigente desde 2017, instituída pelo IBGE, o município pertence às regiões geográficas intermediária e imediata do Rio de Janeiro. Até então, com a vigência das divisões em microrregiões e mesorregiões, fazia parte da Microrregião do Rio de Janeiro, que por sua vez estava incluída na Mesorregião Metropolitana do Rio de Janeiro. Com cerca de 1 200 quilômetros quadrados (km²) de área, o município se estende desde a margem ocidental da baía de Guanabara até parte da Restinga da Marambaia e ocupa ilhas como Governador e Paquetá.A cidade se desenvolveu sobre estreitas planícies aluviais comprimidas entre montanhas e morros e está assentada sobre três grandes maciços: Pedra Branca, Gericinó e o da Tijuca, com picos de interesse turístico como o Bico do Papagaio, Andaraí, Pedra da Gávea, Corcovado, o Dois Irmãos e o Pão de Açúcar. O Rio de Janeiro conta ainda com parques e reservas ecológicas, como o Parque Nacional da Tijuca, considerado \"Patrimônio Ambiental e Reserva da Biosfera\" pela UNESCO; o Complexo da Quinta da Boa Vista; o Jardim Botânico; o Jardim Zoológico do Rio; o Parque Estadual da Pedra Branca e o Passeio Público.\\n\\n\\n=== Litoral ===\\n\\nSeu litoral tem 197 quilômetros de extensão e inclui mais de cem ilhas que ocupam 37 km², e desdobra-se em três partes, voltadas à baía de Sepetiba, ao oceano Atlântico e à baía de Guanabara. O litoral da baía de Sepetiba tem como único acidente geográfico de expressão a Restinga da Marambaia e é arenoso, baixo e pouco recortado. O litoral da baía de Guanabara é recortado, baixo, abarca muitas ilhas (como a do Governador com de 29 km²) e, em suas margens, situam-se o centro comercial e os subúrbios industriais.O litoral Atlântico expressa alternâncias consideráveis, apresentando-se ora alto, quando em contato com as ramificações costeiras dos maciços da Pedra Branca e da Tijuca, ora baixo, trecho pelo qual se estendem as praias integradas à paisagem urbana. Diversas lagoas, como as da Tijuca, Marapendi, Jacarepaguá e Rodrigo de Freitas formaram-se nas baixadas, muitas de terreno pantanoso a ainda não completamente drenado.\\n\\n\\n=== Clima ===\\nA cidade do Rio de Janeiro possui um clima tropical de savana (Aw), na fronteira com um clima tropical monçônico (Am), de acordo com a classificação climática de Köppen-Geiger, geralmente caracterizado por longos períodos de fortes chuvas entre dezembro e março. A cidade experimenta verões quentes e úmidos e invernos quentes e ensolarados. Nas áreas interiores da cidade, temperaturas acima de 40 °C são comuns durante o verão, embora raramente por longos períodos, enquanto temperaturas máximas acima de 23 °C podem ocorrer mensalmente.Ao longo da costa, os ventos marítimos moderam a temperatura. Devido à sua localização geográfica, a cidade pode receber frentes frias que avançam da Antártica, especialmente durante o outono e o inverno, podendo ter quedas de temperatura. No verão, pode haver chuvas fortes e tempestades que, em algumas ocasiões, provocam alagamentos e deslizamentos de terra catastróficos. As áreas mais montanhosas da cidade costumam registrar as maiores quantidades de precipitação, uma vez que elas constituem uma barreira aos ventos úmidos que vêm do Atlântico. Algumas áreas da cidade ocasionalmente são suscetíveis à queda de granizo.Segundo dados do Instituto Nacional de Meteorologia (INMET), desde 1931 a temperatura mínima absoluta registrada no Rio de Janeiro foi de 6,4 °C em 18 de agosto de 1933, na estação meteorológica do bairro Bangu (desativada em março de 2004). A mesma estação, no bairro mais quente da cidade, registrou máxima de 43,1 °C em 14 de janeiro de 1984, que foi o recorde de maior temperatura na cidade até 26 de dezembro de 2012 no bairro Santa Cruz, quando foram registrados 43,2 °C.\\n\\n\\n=== Problemas ambientais ===\\n\\nEm razão da alta concentração de indústrias na região metropolitana, a cidade tem enfrentado sérios problemas de poluição ambiental. A baía de Guanabara perdeu áreas de manguezal e sofre com resíduos provenientes de esgotos domiciliares e industriais, óleos e metais pesados. Não obstante suas águas se renovem ao confluírem para o mar, a baía é receptora final de todos os afluentes gerados nas suas margens e nas bacias dos muitos rios e riachos que nela deságuam. Os níveis de material particulado no ar se encontram duas vezes acima do recomendado pela Organização Mundial da Saúde, em parte devido à numerosa frota de veículos em circulação. Em uma pesquisa divulgada pelo jornal Folha de S. Paulo, o Rio de Janeiro foi apontado como a quinta capital mais poluída do Brasil, atrás apenas de São Paulo, Porto Alegre, Belo Horizonte e Curitiba.As águas da baía de Sepetiba seguem lentamente o caminho traçado pela baía de Guanabara, com esgotos domiciliares produzidos por uma população da ordem de 1,29 milhão de habitantes sendo lançados sem tratamento em valões, córregos ou rios. Com relação à poluição industrial, rejeitos de grande toxicidade, dotados de altas concentrações de metais pesados — principalmente zinco e cádmio —, já foram despejados ao longo dos anos por fábricas dos distritos industriais de Santa Cruz, Itaguaí e Nova Iguaçu, implantados sob orientação de políticas estaduais.Algumas praias da orla carioca, na maior parte do ano, encontram-se impróprias para o banho sendo comum após fortes chuvas a formação de \"línguas negras\" nas areias das praias. Segundo boletim da Secretaria Municipal do Meio Ambiente, parte de Ipanema, Arpoador e Praia Vermelha, além de Bica, Guanabara e Central (Urca), são consideradas impróprias para o banho, haja vista que suas areias têm alta concentração de coliformes e da bactéria Escherichia coli, que indica a presença de lixo e fezes.As lagoas Marapendi e a Rodrigo de Freitas têm sofrido com a leniência das autoridades e o avanço dos condomínios no local. O despejo de esgoto por ligações clandestinas e a consequente proliferação de algas diminuem a oxigenação das águas, ocasionando a mortandade de peixes. Há, por outro lado, sinais de despoluição na lagoa Rodrigo de Freitas feita através de uma parceria público-privada estabelecida em 2008 visa garantir que as águas da lagoa estejam próprias para o banho. As ações de despoluição envolvem a planificação do leito, com transferência de lodo para grandes crateras presentes na própria lagoa, e a criação de uma nova ligação direta e subterrânea com o mar, que contribuirá no sentido de aumentar a troca diária de água entre os dois ambientes.\\n\\n\\n== Demografia ==\\n\\nEm 2010, a população do Rio de Janeiro segundo censo do Instituto Brasileiro de Geografia e Estatística (IBGE) era de 6 320 446 habitantes (39,5% da população estadual), sendo que 2 959 817 habitantes eram homens (46,83%) e 3 362 083 mulheres (53,17%). Ainda segundo o mesmo censo, 100% da população era urbana. A densidade populacional era 5 265,81 hab/km². Desde 1960, quando foi ultrapassada por São Paulo, a cidade do Rio de Janeiro mantém-se no posto de segundo município mais populoso do país. Sua região metropolitana, com 11 835 708 habitantes, é a segunda maior conurbação do Brasil, a terceira da América do Sul e a 23ª do mundo.As taxas de incremento médio anual da população foram de 0,8% (2000-2006) e 0,75% (1991-2000) na cidade, e 1,43% (2000-2006) e 1,18% (1991-2000) na região metropolitana - o que indica, de modo geral, uma aceleração na taxa de crescimento dos demais municípios do Grande Rio, e um pequeno aumento na taxa da capital.\\n\\n\\n=== Composição étnica ===\\n\\nNo censo de 2010, a população do Rio de Janeiro era formada por 3 239 888 brancos (51,26%), 2 318 675 pardos (36,69%), 708 148 pretos (11,2%), 45 913 amarelos e 5 981 indígenas (0,09%), além de 1 842 sem declaração (0,03%). De acordo com estudos genéticos autossômicos recentes, a herança europeia é a dominante tanto entre \"brancos\" quanto entre \"pardos\", respondendo, então, pela maior parte da ancestralidade dos habitantes do Rio de Janeiro. A contribuição africana encontra-se presente, em alto grau, sendo maior entre os \"negros\". Também a ancestralidade ameríndia encontra-se presente, embora em grau menor.Também existem muitos afro-brasileiros desde o período colonial - a maioria descendente de escravos trazidos de Benim, Angola e Moçambique. Com importantes contribuições de seu sincretismo religioso e musical, elementos remanescentes da cultura africana encontram-se hoje emaranhados à cultura brasileira e da cidade. No início do século XIX, o Rio de Janeiro tinha a maior população urbana de escravos nas Américas, superando inclusive Salvador e Nova Orleães. Os africanos provinham de diferentes regiões do continente africano, mas no Rio predominaram os oriundos de Cabinda, do Congo Norte, Benguela, Moçambique, Luanda e de Angola. Os afrodescendentes nascidos no Brasil se diferenciavam dos africanos e poderiam ser divididos em três grupos. O primeiro era de crioulos, negros filhos de pais africanos nascidos no Brasil. Os pardos, já miscigenados, sobretudo com portugueses. Por fim, os cabras, resultado de outras miscigenações, inclusive com índios. Em 1849, 43,51% da população carioca era denominada preta e 80 mil escravos habitavam a cidade.\\n\\nEm 1859, o médico e explorador alemão Robert Christian Avé-Lallemant, após visitar o Rio de Janeiro, fez o seguinte relato: \"Se não soubesse que ela fica no Brasil poder-se-ia tomá-la sem muita imaginação como uma capital africana, residência de poderoso príncipe negro, no qual passa inteiramente despercebida uma população de forasteiros brancos puros. Tudo parece negro.\"\\n\\n\\n=== Fluxos migratórios ===\\nDentre os fluxos migratórios mais significativos, destacam-se os de portugueses e demais povos europeus, nordestinos e afro-brasileiros. Tal fluxo migratório deflagrou-se no século XVI e atingiu seu auge no início do século XX, constituindo uma das maiores massas de imigrantes já recebidas pelo país. Entretanto, foi particularmente em 1808, com o estabelecimento da Família Real Portuguesa no Rio de Janeiro, e a relativa proximidade das jazidas mineiras (descobertas no século XVIII), que a cidade beneficiou-se da onda lusitana. Somente naquele ano, aportaram em território brasileiro 15 mil nobres e pessoas da alta sociedade portuguesa - a grande maioria, na então capital da Colônia.Após a Independência, os fluxos migratórios apresentaram uma redução paulatina, em razão da lusofobia inerente à época. Porém, com o passar dos anos a carência de mão de obra ocasionada pelo fim do tráfico negreiro e os frequentes revezes socioeconômicos enfrentados por Portugal fariam a imigração portuguesa tornar a crescer no Rio e no Brasil. A partir de 1850, a imigração portuguesa tomou caráter quase que exclusivamente urbano e, ao contrário de alemães e italianos que vinham para trabalhar na agricultura, os portugueses rumavam a dois destinos preferenciais: as cidades do Rio de Janeiro e de São Paulo. Entre 1881 e 1991, mais de 1,5 milhão de pessoas migraram de Portugal para o Brasil. Em 1906, 133 393 portugueses viviam no Rio de Janeiro - 16% da população da época.Em 1920, os portugueses compunham 15% da população da cidade e 71% dos estrangeiros. Em 1950, os lusitanos se reduziram a 10% da população, apesar da presença de 196 mil residentes portugueses, sendo então a terceira cidade do mundo com mais portugueses, atrás somente de Lisboa e do Porto. Apesar de as taxas migratórias terem-se reduzido drasticamente a partir da década de 1930 (e, com maior ênfase, após 1960), ainda hoje, a cidade é considerada como tendo a segunda maior população portuguesa do mundo, depois de Lisboa. No censo de 2000, com mais de 5,8 milhões de habitantes, em torno de 1% da população do Rio ainda era nascida em Portugal. Alemães, italianos, russos, suíços, libaneses, espanhóis, franceses, argentinos, chineses e seus respectivos descendentes compõem uma parcela considerável dos povos estrangeiros radicados na cidade. Entre 1920 e 1935, aportaram na cidade dezenas de milhares de imigrantes judeus do Leste Europeu, sobretudo da Ucrânia e da Polônia.É possível notar também um respeitável contingente de pessoas de outros estados, sobretudo nordestinos. Paraibanos e pernambucanos fazem-se bastante presentes. No auge da industrialização, entre as décadas de 1960 e 1980, passaram a migrar para a região Sudeste em busca de melhores condições de vida e trabalho. Com a melhoria estrutural de outras regiões do país, e os problemas resultantes da superpopulação nas grandes cidades, a migração nordestina diminuiu consideravelmente. Embora Rio de Janeiro e São Paulo continuem sendo importantes polos de atração, a migração \"polinucleada\" ganhou contornos mais acentuados.\\n\\n\\n=== Religião ===\\n\\nSão diversas as doutrinas religiosas manifestas na cidade. Tendo-se expandido sobre uma matriz social de predominância católica - em virtude do processo colonizador e imigratório e da ausência de um estado laico que, à época, preconizava o catolicismo - a maioria dos cariocas ainda hoje se declara como tal. No entanto, é substancial a presença de dezenas de denominações protestantes (cerca de 18% da população residente), além do Espiritismo, que apresenta uma penetração considerável, com mais de 200 mil adeptos. As religiões afro-brasileiras (Umbanda e Candomblé) encontram respaldo em vários segmentos sociais, embora professadas por menos de 2% da população.Segundo o último Censo demográfico do IBGE, o percentual dos que não possuem filiação religiosa alguma é expressivo - superior à média nacional, de 7,3% -, sobrestando, inclusive, ao das comunidades espírita e umbandista. Santos dos Últimos Dias, Testemunhas de Jeová, judeus, muçulmanos e budistas são grupos minoritários, mas em ascensão.\\n\\n\\n==== Cristianismo ====\\n\\nA Arquidiocese de São Sebastião do Rio de Janeiro, Sé Metropolitana da respectiva Província Eclesiástica, pertence ao Conselho Episcopal Regional Leste I da Conferência Nacional dos Bispos do Brasil (CNBB) (instalada no Rio até 1977). Fundada em 1676, abrange um território de 1 721 km².A Catedral de São Sebastião do Rio de Janeiro, ou Catedral Metropolitana, foi inaugurada em 1979, na região central da cidade. Suas instalações guarnecem um acervo de grande valor histórico e religioso: o Museu Arquidiocesano de Arte Sacra e o Arquivo Arquidiocesano. Lá também estão sediados o Banco da Providência e a Cáritas Arquidiocesana. Em estilo contemporâneo, apresenta formato cônico, com 96 metros de diâmetro interno e capacidade para receber até 20 mil fiéis. O esplendor da edificação, de linhas retas e sóbrias, deve-se aos cambiantes vitrais talhados nas paredes até à cúpula. Seu projeto e execução foram coordenados pelo Monsenhor Ivo Antônio Calliari (1918-2005). São Sebastião é reconhecido como o padroeiro da cidade, razão pela qual esta recebeu o nome canônico de \"São Sebastião do Rio de Janeiro\".Na cidade coexistem vários credos protestantes ou reformados, exemplificados pelas Igrejas Presbiteriana, Congregacional, Luterana e Anglicana. Além de Igrejas de cunho evangélico como a Igreja Batista, Metodista, Adventista do Sétimo Dia e pelas de origem pentecostal: Universal do Reino de Deus, Assembleia de Deus, Congregação Cristã no Brasil, Evangelho Quadrangular, Casa da Bênção, Deus é Amor, Cristã Maranata e Nova Vida.\\n\\n\\n=== Problemas socioeconômicos ===\\n\\nO Rio de Janeiro é uma cidade de fortes contrastes econômicos e sociais, apresentando grandes disparidades entre ricos e pobres. Enquanto muitos bairros ostentam um Índice de Desenvolvimento Humano correspondente ao de países nórdicos (Gávea: 0,970; Leblon: 0,967; Jardim Guanabara: 0,963; Ipanema: 0,962; Barra da Tijuca: 0,959, dados de 2000), em outros, observam-se níveis bem inferiores à média municipal, como é o caso do Complexo do Alemão (0,711) ou da Rocinha (0,732).\\n\\nEm 2010, o Índice de Desenvolvimento Humano Municipal (IDH-M) do Rio de Janeiro era considerado \"alto\" pelo Programa das Nações Unidas para o Desenvolvimento (PNUD), cujo valor, de 0,799, era o segundo maior a nível estadual (depois de Niterói) e o 45º a nível federal. Considerando apenas a longevidade o índice é de 0,845, o índice de renda é de 0,840 e o de educação de 0,719.Embora classificada como uma das principais metrópoles do mundo, segundo o censo de 2010 feito pelo IBGE, 1,39 milhão dos 6,29 milhões de habitantes da cidade - o que corresponde a aproximadamente 22% de sua população - vivem em aglomerados subnormais. Essas favelas se instalam principalmente sobre os morros, devido ao relevo mamelonar do Rio de Janeiro, ou em mangues aterrados como no Complexo do Manguinhos, onde as condições de moradia, saúde, educação e segurança são extremamente precárias.Um aspecto original das favelas do Rio é a proximidade aos distritos mais valorizados da cidade, simbolizando a forte desigualdade social, característica do Brasil. Alguns bairros de luxo, como São Conrado, onde se localiza a favela da Rocinha, encontram-se \"espremidos\" entre a praia e os morros. Nas favelas, ensino público e sistema de saúde deficitários ou inexistentes, aliados à saturação do sistema prisional, contribuem com a intensificação da injustiça social e da pobreza.\\n\\n\\n=== Segurança, violência e criminalidade ===\\n\\nDesde meados dos anos 1990, em decorrência da violência urbana, o Rio vem conquistando espaço na imprensa nacional e (nos últimos anos) internacional. A cidade apresenta índices elevados de criminalidade, em especial, o homicídio. Até o ano de 2007, na região metropolitana contabilizavam-se quase 80 mortos por semana - a maioria vítimas de assaltos, balas perdidas e do narcotráfico. Entre 1978 e 2000, 49 900 pessoas foram mortas no Rio, mais do que em toda a Colômbia no mesmo período.A polícia do Rio de Janeiro também é demasiadamente violenta; em 2006 matou 1 063 pessoas no estado, sendo 1 195 apenas em 2003. Até abril de 2007, a média era de 3,7 por dia. A título de comparação, a polícia dos Estados Unidos matou apenas 347 pessoas em todo o território estadunidense ao longo de 2006. Os policiais recebem em média R$ 874 por mês, ou o equivalente R$ 10 488 em um ano. Baixos salários e equipamentos insuficientes fazem com que a polícia carioca consiga resolver apenas 3% de todos os assassinatos ocorridos na cidade.\\n\\nEntretanto, pesquisas recentes demonstram que a violência urbana vem caindo na cidade, sobretudo nos últimos anos. O \"Mapa da Violência dos Municípios Brasileiros 2008\", estudo realizado conjuntamente pela Rede de Informação Tecnológica Latino Americana (RITLA) e pelo Instituto Sangari, com o aval do Ministério da Saúde e do Ministério da Justiça, divulgado em janeiro de 2008, revela que no Rio de Janeiro a taxa geral de homicídios por 100 mil habitantes retrocedeu 40% entre 2002 e 2006, levando-o da 4ª para a 14ª posição no ranking das capitais mais violentas do Brasil.Em 2002, a capital fluminense registrava 62,8 casos de homicídio para cada 100 mil pessoas. Em 2006, após quedas anuais sucessivas, esta taxa chegou a 37,7 - abaixo da aferida para cidades menores como Recife (90,9), Vitória (88,6), Curitiba (49,3), Belo Horizonte (49,2), Salvador (41,8) e Florianópolis (40,7).No entanto, apesar da salutar redução dos índices de criminalidade, o Rio ainda ocupa o segundo lugar com relação ao total de homicídios ocorridos em 2006, atrás apenas de São Paulo. Um relatório anterior, divulgado em outubro de 2007, também com a chancela dos Ministérios da Saúde e da Justiça, apontava uma redução inferior (17,5%) nos índices de homicídio entre 2003 e 2006, período no qual a capital respectivamente teria oscilado da 3ª a 5ª colocação entre as mais violentas do Brasil.\\n\\n\\n== Política ==\\n\\n\\n=== Governo municipal ===\\n\\nNo Rio de Janeiro, o poder executivo é representado pelo prefeito e gabinete de secretários, em conformidade ao modelo proposto pela Constituição Federal. A Lei Orgânica do Município e o atual Plano Diretor, porém, preceituam que a administração pública deve conferir à população ferramentas efetivas ao exercício da democracia participativa. Deste modo, a cidade é dividida em subprefeituras, cada uma delas dirigida por um submandatário nomeado diretamente pelo prefeito.O poder legislativo é constituído à câmara municipal, composta por 51 vereadores eleitos para mandatos de quatro anos (em observância ao disposto no artigo 29 da Constituição, que disciplina um número mínimo de 42 e máximo de 55 para municípios com mais de cinco milhões de habitantes). Cabe à casa elaborar e votar leis fundamentais à administração e ao Executivo, especialmente o orçamento participativo (Lei de Diretrizes Orçamentárias). Conquanto seja o poder de veto assegurado ao prefeito, o processo de votação das leis que se lhe opõem costuma gerar conflitos entre Executivo e Legislativo.Existem também os conselhos municipais, que atuam em complementação ao processo legislativo e ao trabalho engendrado nas secretarias. Obrigatoriamente formados por representantes de vários setores da sociedade civil organizada, acenam em frentes distintas - embora sua representatividade efetiva seja por vezes questionada. Encontram-se atualmente em atividade: Conselho Municipal de Proteção do Patrimônio Cultural (CMPC), de Defesa do Meio Ambiente (CONDEMAM), de Saúde (CMS), dos Direitos da Criança e do Adolescente (CMDCA), de Educação (CME), de Assistência Social (CMAS) e Antidrogas.\\n\\n\\n=== Governo estadual ===\\n\\nPor ser a capital do estado homônimo, a cidade é sede do governo fluminense. O Palácio Guanabara (anteriormente conhecido como Paço Isabel) fica no bairro Laranjeiras, na zona sul, e é a sede oficial do poder executivo fluminense. Não deve ser confundido com o Palácio Laranjeiras, situado no mesmo bairro, que é a residência oficial do governador do Rio de Janeiro.A Assembleia Legislativa do Estado do Rio de Janeiro (ALERJ) é o órgão de poder legislativo estadual e está sediada no Palácio Tiradentes, onde anteriormente funcionou a Câmara dos Deputados do Brasil.O Tribunal de Justiça do Estado do Rio de Janeiro (TJRJ) é o órgão máximo do poder judiciário do estado. Seu fórum central está localizado no Centro do Rio de Janeiro, mas, de 2013 a julho de 2018, algumas das varas judiciais deste foro foram deslocadas para a Cidade Nova.\\n\\n\\n=== Governo federal ===\\n\\nA cidade do Rio de Janeiro foi, sucessivamente, capital da colônia portuguesa do Estado do Brasil (1621-1815), depois do Reino Unido de Portugal, Brasil e Algarves (1815-1822), do Império do Brasil (1822-1889) e da República dos Estados Unidos do Brasil (1889-1968) até 1960, quando a sede do governo foi transferida definitivamente para a então recém-construída Brasília.Apesar da mudança da capital federal, 59% dos servidores civis do Poder Executivo de órgãos federais e empresas públicas permaneceram na cidade. O Rio de Janeiro é também o único estado brasileiro onde o número de servidores federais supera o número dos servidores estaduais. Cerca de um terço de todos os órgãos e empresas públicas federais continua na ex-capital, sendo 50 repartições públicas, entre agências, autarquias, fundações e empresas públicas, como a Biblioteca Nacional, a Comissão Nacional de Energia Nuclear, a Fiocruz, o BNDES, a Petrobras, a Eletrobras, o IBGE, a Casa da Moeda, o Arquivo Nacional, entre outros.O professor Christian Lynch, do Instituto de Estudos Sociais e Políticos (IESP) da Universidade do Estado do Rio de Janeiro (UERJ), tem proposto que a cidade do Rio e a sua região metropolitana sejam federalizadas, formando uma segunda cidade federal no Brasil. De acordo com Lynch, a mudança da capital teria criado um ciclo de crises no Rio, que não poderia ser solucionado de outra forma, dada a marcada presença da União na cidade. A ideia se inspira em São Petersburgo, que depois de ser capital da Rússia por 200 anos, entrou em decadência com a mudança da capital para Moscou, até ser novamente federalizada em 1997. A proposta inclui também a possibilidade de transferência da sede de algumas funções do governo federal de volta ao Rio, como o Congresso Nacional ou Supremo Tribunal Federal.\\n\\n\\n=== Cidades-irmãs ===\\n\\nA política das cidades-irmãs  tem como objetivo a criação de relações e protocolos, notadamente na esfera econômica e cultural, aonde cidades estabelecem entre si laços de cooperação. Rio de Janeiro possui 33 cidades-irmãs, que são:\\n\\nSão também consideradas cidades parceiras:\\n\\n\\n== Subdivisões ==\\n\\nO município do Rio de Janeiro é dividido em 163 bairros, agrupados em 33 regiões administrativas e sete subprefeituras. Segundo o Instituto Brasileiro de Geografia e Estatística, o mais populoso da capital fluminense é Campo Grande, com 328 370 habitantes. A região oeste concentra grande parte dos bairros mais populosos do município, tendo um alto crescimento populacional, mas não um desenvolvimento similar, causando indevidas aglomerações e segregações. Outros bairros com população igual ou superior a cem mil habitantes são Bangu (243 125), Santa Cruz (217 333), Realengo (180 123), Tijuca (163 805), Jacarepaguá (157 326), Copacabana (146 392), Barra de Tijuca (135 924), Maré (129 770), Guaratiba (110 049), Senador Camará (105 515) e Taquara (102 126). Nos bairros da região sul, há alta concentração de idosos, como Copacabana, que possui quase 25% de seus moradores nesta faixa.\\n\\n\\n== Economia ==\\n\\nO Rio de Janeiro é a cidade com o segundo maior PIB no Brasil, superada apenas por São Paulo. Detém também o 30º maior PIB do planeta, o qual, segundo dados do IBGE, foi de cerca de R$ 139 559 354 000 em 2007 - equivalente a 5,4% do total nacional.Segundo pesquisa da consultoria Mercer sobre o custo de vida para funcionários estrangeiros, o Rio de Janeiro está entre as cidades mais caras do mundo, colocada na posição 13 em 2012, 18 postos acima de sua classificação de 2010, e superada por São Paulo (posição 12), mas na frente de cidades como Londres, Paris, Milão e Nova Iorque.O setor de serviços abarca a maior parcela do PIB (65,52%), seguido pela arrecadação de impostos (23,38%), pela atividade industrial (11,06%) e pelo agronegócio (0,04%).\\n\\nBeneficiando-se da posição de capital federal ocupada por um longo período (1763-1960), a cidade transformou-se em um dinâmico centro administrativo, financeiro, comercial e cultural. A Região Metropolitana do Rio de Janeiro, tal como considerada pelo IBGE, ostenta um PIB de R$ 187 374 116 000, constituindo o segundo maior polo de riqueza nacional. Concentra 68% da força econômica do estado e 7,91% de todos os bens e serviços produzidos no país.Levando-se em consideração a rede de influência urbana exercida pela metrópole (e que abrange 11,3% da população brasileira), esta participação no PIB sobe para 14,4%, segundo o estudo divulgado em outubro de 2008 pelo IBGE. Há muitos anos congrega o segundo maior polo industrial do Brasil, contando com refinarias de petróleo, indústrias navais, siderúrgicas, metalúrgicas, petroquímicas, gás-químicas, têxteis, gráficas, editoriais, farmacêuticas, de bebidas, cimenteiras e moveleiras. No entanto, as últimas décadas atestaram uma nítida transformação em seu perfil econômico, que vem adquirindo, cada vez mais, matizes de um grande polo nacional de serviços e negócios.A Bolsa de Valores do Rio de Janeiro (BVRJ), que atualmente negocia apenas títulos públicos, foi a primeira Bolsa de valores fundada no Brasil, em 1845, e localiza-se na região central.\\n\\n\\n=== Setores em destaque ===\\n\\nNa cidade do Rio de Janeiro estão sediados uma boa parte dos maiores conglomerados empresariais do Brasil. Entre eles estão as três maiores multinacionais dos setores de energia e de mineração do Brasil, a Petrobras, a Vale S.A. e o Grupo EBX; o maior grupo de mídia e de comunicações da América Latina, o Grupo Globo; além de grandes empresas do setor de telecomunicações, tais como: a CorpCo (proprietária da Oi e da Portugal Telecom), a TIM Brasil, a Embratel, a Intelig e a Star One (maior empresa latino-americana de gerenciamento de satélites).Na petroquímica, verifica-se um arranjo consentâneo de mais de 700 empresas, dentre as quais as maiores do Brasil (Shell, Esso, Ipiranga, Chevron Texaco, El Paso, Repsol YPF). A maioria mantém centros de pesquisa espalhados por todo o estado e, juntas, produzem mais de 4/5 do petróleo e dos combustíveis distribuídos nos postos de serviço do território nacional. A Companhia Siderúrgica Nacional (CSN), a Companhia Siderúrgica do Atlântico (CSA) (maior siderúrgica da América Latina) e a filial brasileira da BHP Billiton exercem papel de destaque no setor de mineração. A cidade também reúne os principais grupos nacionais e internacionais da indústria naval e os maiores estaleiros do estado e de todo o Brasil - o qual detém cerca de 90% da produção de navios e de equipamentos offshore no Brasil.Coca-Cola Brasil, Michelin, PSA Peugeot Citroën, Xerox do Brasil, GE Oil & Gás, Light, Chemtech, Transpetro, Souza Cruz (British American Tobacco), Previ, Grupo SulAmérica, Ponto Frio e Lojas Americanas compõem a lista das grandes companhias sediadas na cidade. É expressiva a quantidade de indústrias do ramo farmacêutico instaladas na cidade, com ênfase para Schering-Plough, GlaxoSmithKline, Roche e Merck.\\n\\nO Rio de Janeiro herdou de seu passado uma forte vocação cultural. Atualmente, aglutina os principais centros de produção da TV brasileira: o Projac da Rede Globo de Televisão, o RecNov da Rede Record e o Polo de Cinema de Jacarepaguá - responsáveis pela geração de cerca de 10 mil empregos diretos e 30 mil indiretos. Em 2006, 65% da produção do cinema nacional foi realizada exclusivamente por estúdios cariocas, captando R$ 91 milhões em recursos federais através de leis de incentivo fiscal. Uma parcela significativa do parque gráfico-editorial brasileiro também faz-se presente. Quanto à indústria fonográfica, figuram gigantes como EMI, Universal Music, Sony Music, Warner Music e Som Livre.Muitas empresas estatais, fundações públicas e autarquias federais possuem suas sedes estabelecidas na cidade, com destaque o Banco Nacional de Desenvolvimento Econômico e Social (BNDES), a Eletrobrás (maior companhia do setor de energia elétrica da América Latina), a Casa da Moeda do Brasil, as Indústrias Nucleares do Brasil (INB), a Financiadora de Estudos e Projetos (FINEP), o Instituto Brasileiro de Geografia e Estatística (IBGE), o Instituto Nacional de Metrologia, Normalização e Qualidade Industrial (Inmetro), o Instituto Nacional da Propriedade Industrial (INPI), a Comissão de Valores Mobiliários (CVM), e a Comissão Nacional de Energia Nuclear (CNEN).\\n\\n\\n=== Turismo ===\\n\\nO turismo confere mais do que um mero adendo à economia local, uma vez que muitos turistas são atraídos por uma miríade de ícones culturais e paisagísticos - o que leva à criação de diversos postos de trabalho, robustecendo os setores comercial e de hotelaria. De acordo com um levantamento recente da Associação Brasileira de Shopping Centers (ABRASCE) para 2008, existem 30 estabelecimentos da categoria (segundo lugar no ranking), ou 8,2% do total nacional). É a primeira cidade do Brasil a ter um domínio web próprio, o .rioA cidade é o maior destino turístico internacional no Brasil, da América Latina e de todo o Hemisfério Sul, sendo a cidade brasileira mais conhecida no exterior, que serve como um \"espelho\", ou \"retrato\" nacional, seja positiva ou negativamente. Tem o epíteto de Cidade Maravilhosa e parte da cidade foi designada pela UNESCO como Patrimônio Cultural da Humanidade, com o nome \"Rio de Janeiro: Paisagem Carioca entre a Montanha e o Mar\", em 1 de julho de 2012, tornando-se uma paisagem cultural.O Rio de Janeiro também tem as diárias de hotel mais caras do Brasil. Com o mesmo valor pago por uma diária em hotéis de duas estrelas na cidade, é possível se hospedar em hotéis quatro estrelas em cidades como Pequim, Buenos Aires, Amsterdã e Barcelona, ou em um hotel da categoria de três estrelas na cidade de São Paulo.\\n\\n\\n== Infraestrutura urbana ==\\n\\n\\n=== Educação e ciência ===\\n\\nO fator \"educação\" do IDH no município atingiu em 2010 a marca de 0,719, ao passo que a taxa de alfabetização indicada pelo último censo demográfico do IBGE foi de 97,2%, ocupando a quinta posição dentre as capitais brasileiras, depois das três capitais da região Sul e de Belo Horizonte (Minas Gerais).Com mais 2 500 estabelecimentos de ensino fundamental, cerca de 2 300 unidades pré-escolares, 763 escolas de nível médio e várias instituições de nível superior, a rede de ensino carioca é a segunda mais extensa do país. No ensino médio se destacam as escolas técnicas federais Colégio Pedro II, Cefet/RJ e Instituto Federal do Rio de Janeiro e também as escolas técnicas estaduais mantidas pela Fundação de Apoio à Escola Técnica do Estado do Rio de Janeiro, entre elas a Escola Técnica Estadual República, Escola Técnica Estadual Ferreira Viana e o Instituto Superior de Educação do Rio de Janeiro.\\nEntre as muitas instituições de ensino superior podem-se destacar a Universidade Federal do Rio de Janeiro (UFRJ), a Fundação Getúlio Vargas (FGV), o Instituto Militar de Engenharia (IME), a Universidade Federal do Estado do Rio de Janeiro (UNIRIO) e a Universidade do Estado do Rio de Janeiro (UERJ). Na capital fluminense também se encontra a sede da União Nacional dos Estudantes (UNE), fundada em 1937.\\n\\n\\n=== Saúde ===\\n\\nSegundo informações do Instituto Brasileiro de Geografia e Estatística, o Rio de Janeiro dispunha de um total de 2087 estabelecimentos de saúde em 2009, sendo 189 públicos e 1898 privados, os quais dispunham no seu conjunto de 20 756 leitos para internação, sendo que mais da metade são privados. A cidade também conta com atendimento médico ambulatorial em especialidades básicas, atendimento odontológico com dentista e presta serviço ao Sistema Único de Saúde (SUS).Em abril de 2010 existiam 1 912 582 mulheres em idade fértil (entre 10 e 49 anos). A capital fluminense contava em dezembro de 2009 com 1 834 anestesistas, 17 485 auxiliares de enfermagem, 1 662 cirurgiões gerais, 2 983 cirurgiões dentistas, 5 635 clínicos gerais, 8 228 enfermeiros, 1 204 farmacêuticos, 1 646 fisioterapeutas, 558 fonoaudiólogos, 2 714 gineco-obstetras, 199 médicos de família, 1 274 nutricionistas, 3 667 pediatras, 1 168 psicólogos, 760 psiquiatras, 1 926 radiologistas e 9 032 técnicos de enfermagem. Em 2008 foram registrados 82 306 nascidos vivos, sendo que 9% nasceram prematuros, 53,6% foram de partos cesáreos e 16,9% foram de mães entre 10 e 19 anos (0,9% entre 10 e 14 anos). A taxa bruta de natalidade era de 13,4 por 100 mil habitantes. No mesmo ano, a taxa de mortalidade infantil era de 13,6 por mil nascidos vivos e a taxa de óbitos era de 8,4 por mil habitantes.\\n\\n\\n=== Transportes ===\\n\\nA frota municipal em 2018 era constituída por 2 827 516 unidades, dos quais 2 035 943 (72%) eram automóveis.\\n\\n\\n==== Transporte público e rodoviário ====\\nO transporte público por ônibus é o mais utilizado no Rio de Janeiro. Nos últimos dez anos, houve perda de usuários para demais meios, especialmente o transporte alternativo. Ainda assim, são cerca de  2,5  milhões de usuários/dia apenas nas linhas municipais, cujo número fica em torno de 440, distribuídas entre 4 consórcios de empresas.Na cidade e nas viagens intermunicipais, as empresas de ônibus encontram-se interligadas ao metrô, visando transportar os passageiros que desembarcam nas linhas finais deste, mas ainda necessitam de um ônibus para chegar ao seu destino. Tais passageiros podem utilizar o chamado \"bilhete único\", através do qual pagam pelo metrô e ainda têm direito a utilizar ônibus, barcas, trens, metrô e vans (regularizadas).\\n\\nA cidade do Rio de Janeiro é um dos mais importantes entrepostos rodoviários do Brasil. Dentre as autoestradas e vias expressas que dão acesso à cidade, destacam-se sobretudo a BR-116 (também chamada localmente de Rodovia Presidente Dutra e de Rodovia Rio-Teresópolis), a BR-040, a BR-101, a RJ-071 (mais conhecida como Linha Vermelha) e a Avenida Brasil. Estas cinco vias formam o grande complexo rodoviário que dá acesso à cidade do Rio de Janeiro, sendo utilizadas diariamente por milhares de pessoas que entram e saem da cidade. Além destas, também existem outras vias de menor importância que ligam a cidade aos municípios vizinhos da Baixada Fluminense, tais como a BR-465 (antiga Estrada Rio-São Paulo).\\n\\n\\n==== Portuário ====\\n\\nO Porto do Rio de Janeiro localiza-se na costa oeste da baía de Guanabara, próximo à região central, e atende aos estados do Rio de Janeiro, São Paulo, Minas Gerais, Espírito Santo, Bahia e sudoeste de Goiás, entre outros. É um dos mais movimentados do país quanto ao valor das mercadorias e à tonelagem. Peças e partes de veículos, trigo, café, produtos siderúrgicos e produtos têxteis são os principais produtos escoados. O porto movimenta grande volume de cargas conteinerizadas.Administrado pela Companhia Docas do Rio de Janeiro (CDRJ), conta com 6 740 metros de cais contínuo e um pier de 883 metros de perímetro, que compõem os seguintes trechos: Cais Mauá (35 000 m² de pátios descobertos), Cais da Gamboa (60 000 m² de área coberta em 18 armazéns e pátios com áreas descobertas de aproximadamente 16 000 m²), Cais de São Cristóvão (12 100 m² em dois armazéns cobertos e uma área de pátios com 23 000 m²), Cais do Caju e Terminal de Manguinhos. Existem ainda dez armazéns externos, totalizando 65 367 m², e oito pátios cobertos (11 027 m²), com capacidade de estocagem para 13 100 toneladas, além de outros terminais de uso privativo na ilha do Governador (exclusivo de Shell e Esso), na baía de Guanabara (Refinaria de Manguinhos) e nas ilhas d’Água e Redonda (Petrobras).\\n\\n\\n==== Aéreo ====\\n\\nA cidade conta com três aeroportos comerciais. O Aeroporto Santos Dumont, localizado em pleno centro da cidade, serve principalmente à ponte aérea Rio-São Paulo e a voos estaduais e regionais. Foi o primeiro aeroporto civil do país, construído na década de 1930. Projetado pelos irmãos Roberto, o terminal de passageiros é considerado um ícone da arquitetura modernista brasileira, e entrou na lista de construções tombadas pelo Instituto Estadual do Patrimônio Artístico e Cultural (Inpac) em agosto de 1998. Recentemente passou por uma grande reforma que incluiu a ampliação e remodelagem do terminal de embarque.O Aeroporto Internacional do Galeão, ou Aeroporto Internacional Antônio Carlos Jobim - em homenagem ao renomado maestro, compositor e cantor brasileiro falecido em 1994. Situado na ilha do Governador, zona norte, é um importante portão de entrada para o Brasil. Com capacidade para atender até 17,3 milhões de usuários ao ano, o complexo aeroportuário é servido por dois terminais de passageiros e oferece conexões para dezenove países. Conta também com um dos maiores, mais modernos e bem aparelhados Terminais de Logística de Carga do Continente, além da maior pista de aterrissagem do Brasil, com quatro mil metros de extensão. É o segundo aeroporto mais movimentado do país em voos internacionais em número de passageiros e o terceiro em voos domésticos e conta com o quarto maior terminal de cargas.O Aeroporto de Jacarepaguá também nomeado como Aeroporto Roberto Marinho, instalado na zona oeste, destina-se sobretudo a voos particulares e regionais com aeronaves de pequeno porte. O aeroporto atende a voos não regulares das empresas de táxi aéreo, e conta com infraestrutura de atendimento.Além destes, há os aeroportos militares: a Base Aérea do Galeão, em espaço contíguo ao aeroporto internacional; a Base Aérea dos Afonsos (conhecida como Campo dos Afonsos) e a Base Aérea de Santa Cruz, importante centro de defesa da Aeronáutica e maior complexo de combate da Força Aérea Brasileira.Também existe no Rio um aeroporto reservado à operação de ultraleves, o Clube Ceu (Clube Esportivo de Ultraleves), situado ao sul do Autódromo Internacional Nelson Piquet. Trata-se de um dos mais bem aparelhados clubes dentre as agremiações esportivas do mundo todo, considerado pelas autoridades aeronáuticas brasileiras um padrão na aviação esportiva.\\n\\n\\n==== Ferroviário, metroviário e cicloviário ====\\n\\nO Rio de Janeiro é servido por uma rede metroviária que integra bairros e municípios distantes, conectando desde o bairro da Pavuna, na zona norte, até Ipanema e a Barra da Tijuca. Estes são então integrados por ônibus especiais, que também passam por Leblon, Botafogo, Humaitá, Jardim Botânico, Gávea, São Conrado e vão até a Barra da Tijuca. Também há integrações específicas da Pavuna para cidades da Baixada Fluminense como Duque de Caxias, Mesquita, Nilópolis e Nova Iguaçu. Futuramente também serão implantadas conexões para Belford Roxo. Ao longo da rede metroviária há outras pequenas integrações. Em 2006, foi aberta a terceira estação de Copacabana, Cantagalo. Em 2009, entrou em funcionamento a estação General Osório, no bairro de Ipanema. A partir de 2016, durante os eventos dos Jogos Olímpicos de Verão sediados naquele ano na cidade, foi inaugurada a quarta linha do metrô, ligando a zona sul à zona oeste do município, entre as estações General Osório em Ipanema e Jardim Oceânico, na Barra da Tijuca.Possui 40,9 quilômetros de extensão distribuídos em duas linhas e 35 estações. Em 2012 nos dias úteis o Metrô do Rio de Janeiro transportou em média 645 mil passageiros/dia. Além do metrô, o Rio de Janeiro conta com um sistema de trens urbanos. Sob direção da concessionária SuperVia, constitui, juntamente com os ônibus, um amplo conjunto de transporte popular. As composições partem da Estação Ferroviária Central do Brasil em direção aos subúrbios por cinco ramais, percorrendo 270 km de via férrea. Além do metrô e da SuperVia, o Rio de Janeiro também é servido por linhas menores tais como o Bonde de Santa Teresa e o Trem do Corcovado, além das linhas cargueiras da MRS Logística e da Ferrovia Centro-Atlântica (FCA) que se destinam à zona portuária da cidade e ao Porto de Itaguaí.\\n\\nBoa parte dos ramais ferroviários existentes nos subúrbios da cidade estão entre as mais antigas linhas ferroviárias existentes no Brasil, já tendo pertencido a importantes companhias férreas brasileiras, tais como: a Estrada de Ferro Central do Brasil, a Estrada de Ferro Leopoldina, a Estrada de Ferro Rio d\\'Ouro, a Estrada de Ferro Melhoramentos do Brasil, a Rede Ferroviária Federal (RFFSA), a Companhia Brasileira de Trens Urbanos (CBTU) e a Flumitrens. Por essas antigas linhas ferroviárias, a cidade mantinha ligações pelo transporte de passageiros de longa distância com os estados vizinhos do Espírito Santo (até 1984), Minas Gerais (até 1990) e São Paulo (até 1998), além do próprio interior fluminense (até 1991) e com o litoral do estado situado na região da Costa Verde (até 1982). Após a privatização de grande parte das linhas e o fim da Rede Ferroviária Federal (RFFSA), o sistema ferroviário da cidade ficou dividido somente entre os ramais de subúrbios e o transporte de cargas, vindo de outros estados rumo ao Porto do Rio de Janeiro.O Rio de Janeiro detém 140 km de ciclovias, a maior metragem do país e a segunda maior da América Latina, perdendo apenas para Bogotá, com 250 km. Segundo estimativas do Instituto Municipal de Urbanismo Pereira Passos (IPP), cerca de 320 mil pessoas utilizam bicicletas na cidade. A malha está espalhada por toda a orla, do Leme à praia do Pontal, na Lagoa, no centro, e em outras áreas das zonas Sul e Oeste.\\n\\n\\n== Cultura ==\\n\\nO Rio de Janeiro herdou de seu passado uma forte vocação cultural. Na Literatura do Brasil, efetivamente, aos primeiros decênios do século XVIII, quando da instalação das \"academias\" e \"associações\" com finalidades eruditas, a cidade - como centro colonial mais expressivo - testemunhou, desde então, a gênese e consolidação de diversas escolas e movimentos. Escritores como Machado de Assis,  Olavo Bilac, Carlos Drummond de Andrade, Clarice Lispector, Guimarães Rosa, Cecília Meireles, Graciliano Ramos, Nélida Piñon - entre outros - conduziram parte significativa de suas carreiras no Rio de Janeiro. A Academia Brasileira de Letras (ABL), fundada em 1896, segundo o modelo da Academia Francesa, teve, em sua concepção, a atuação de Medeiros e Albuquerque, Lúcio de Mendonça e Machado de Assis.Quanto aos pontos de referência do turismo cultural, podem-se elencar, entre tantos, o Museu do Amanhã, o Museu Histórico Nacional, o Museu Nacional da Universidade Federal do Rio de Janeiro, o Museu Casa do Pontal, o Museu Nacional de Belas Artes, a Biblioteca Nacional, o Museu de Arte Moderna (MAM), o Real Gabinete Português de Leitura, o Palácio do Catete, o Riocentro, o Canecão, o Cais do Valongo e o Theatro Municipal.Entre os principais eventos, destacam-se o Carnaval, o Festival Internacional de Cinema, a Mostra do Filme Livre, a Bienal do Livro, o Fashion Rio, o Rock in Rio, o Anima Munsi e a festa do réveillon em Copacabana.Em 1 de julho de 2012, a paisagem urbana da cidade do Rio de Janeiro foi elevada à categoria de Patrimônio Cultural da Humanidade pela UNESCO. O conceito de paisagem cultural foi criado pela agência da ONU em 1992. A cidade teve sua candidatura aprovada na 36ª Sessão do Comitê do Patrimônio Mundial, realizada em São Petersburgo, na Rússia, tendo a candidatura sido representada pela ministra da Cultura do Brasil, Ana de Hollanda. Em 18 de janeiro de 2019, a cidade foi eleita pela UNESCO como a primeira Capital Mundial da Arquitetura.\\n\\n\\n=== Cinema, televisão e música ===\\nNo final do século XIX, foram ali realizadas as primeiras sessões de cinema tupiniquins e, desde então, descortinaram-se vários ciclos de produção, os quais acabaram por inserir a produção cinematográfica carioca na vanguarda experimental e na liderança do cinema nacional.Atualmente, o Rio aglutina os principais centros de produção da TV brasileira: o Projac da Rede Globo, o RecNov da Rede Record e o \"Polo de Cinema de Jacarepaguá\". Em 2006, 65% da produção do cinema nacional foi realizada exclusivamente por produtoras sediadas na cidade, captando 91 milhões de reais em recursos federais através da Lei Rouanet.O samba e a Marchinha de Carnaval que incorporaram com graça e verve, elementos do cotidiano carioca, floresceram e perpetuaram-se através de compositores como Noel Rosa e Ary Barroso. O samba de morro alçou voos maiores nas composições de Cartola e Ataulfo Alves. Há de se notar a influência de Luiz Gonzaga e Humberto Teixeira na popularização do baião e do xaxado, e Dorival Caymmi, em cuja obra elementos do folclore baiano coadunavam-se à cultura brasileira em geral. Todavia, foi no final dos anos 1950, quando irrompeu o movimento da bossa nova, que a música brasileira projetou-se, definitivamente, no exterior, tornando-se conhecida em diversas partes do mundo. À época, na condição de centro político e cultural do Brasil, circulavam pela cidade músicos como Tom Jobim, Vinicius de Moraes, Ronaldo Bôscoli, Nara Leão, Roberto Menescal, Maysa, Luís Bonfá, entre outros.\\n\\n\\n=== Esportes ===\\n\\nDentre as modalidades esportivas mais praticadas estão o futebol de areia, o vôlei de praia, o surfe, o kitesurf, o voo livre, o jiu-jítsu e o remo. A capoeira, mistura de dança, esporte e arte marcial, também aparece com alguma frequência. Outro esporte altamente popular nas areias do Rio é o \"frescobol\", espécie de tênis de praia. O voo livre começou a ser exercitado em meados de 1974, e adequou-se rapidamente ao gosto de inúmeros praticantes e às características da cidade, em razão de suas peculiaridades geográficas: no encontro das montanhas com o oceano Atlântico, surgem excelentes posições para decolagem, podendo-se contar com vastas porções desocupadas de areia para aterrissar. De início majoritariamente encenada por amadores, a atividade verteu-se em uma lucrativa indústria.O futebol é o mais popular dos esportes praticados na cidade. O Rio abriga cinco clubes brasileiros bastante tradicionais: America, Botafogo, Flamengo, Fluminense e Vasco. A cidade conta com três grandes estádios: Estádio Jornalista Mário Filho, conhecido como Maracanã e com o epíteto de \"templo do futebol brasileiro\", é o maior estádio do Brasil; o Estádio Olímpico João Havelange, conhecido como \"Engenhão\", foi planejado para sediar as provas de atletismo e futebol dos Jogos Pan-americanos de 2007 e o Estádio Vasco da Gama, conhecido como \"São Januário\", de propriedade do Club de Regatas Vasco da Gama, é o maior estádio privado carioca.Os eventos esportivos mais conhecidos do Rio de Janeiro são a etapa brasileira de MotoGP e as finais mundiais de vôlei de praia. Jacarepaguá era o local onde se realizava a etapa brasileira do Grande Prêmio de Fórmula 1, entre os anos de 1978 e 1990, e Champ Car (1996-1999). Os circuitos WCT e WQS de Surf foram disputados em praias cariocas entre 1985 e 2001. A cidade foi uma doze sedes da Copa do Mundo de 2014, tendo recebido sete jogos, incluindo a final, e também palco dos Jogos Olímpicos e Paralímpicos de Verão de 2016.\\n\\n\\n=== Feriados ===\\nNo Rio de Janeiro, há quatro feriados municipais, que são: o dia de São Jorge, que ocorre sempre em 23 de abril; o dia de Zumbi dos Palmares, que sempre é realizado no dia 20 de novembro, quando também é comemorado o dia da Consciência Negra; o dia do padroeiro do Rio de Janeiro, São Sebastião, comemorado em 20 de janeiro.\\n\\n\\n== Ver também ==\\n\\n\\n== Referências ==\\n\\n\\n== Bibliografia ==\\n\\n\\n== Ligações externas ==\\n\\nPrefeituraSítio oficial\\nPrefeitura no Facebook\\nPrefeitura no Twitter\\nPrefeitura no YouTubeCâmara MunicipalSítio oficial\\nCâmara Municipal no Facebook\\nCâmara Municipal no Twitter\\nCâmara Municipal no YouTubeOutrosRio de Janeiro no WikiMapia\\nRio de Janeiro no OpenStreetMap'"
      ]
     },
     "execution_count": 10,
     "metadata": {},
     "output_type": "execute_result"
    }
   ],
   "source": [
    "result.content"
   ]
  },
  {
   "cell_type": "code",
   "execution_count": 11,
   "metadata": {
    "colab": {
     "base_uri": "https://localhost:8080/"
    },
    "executionInfo": {
     "elapsed": 357,
     "status": "ok",
     "timestamp": 1624714782598,
     "user": {
      "displayName": "Leonardo Mendonza",
      "photoUrl": "https://lh3.googleusercontent.com/a-/AOh14Gj5F1JVSmHodKCvWHgDPYmDyFo_nUl5lqEXNbsW=s64",
      "userId": "09205135724810578413"
     },
     "user_tz": 180
    },
    "id": "hb7OdFytBY_N",
    "outputId": "49a47861-cb88-4af4-9498-7c416d3b9f20"
   },
   "outputs": [
    {
     "data": {
      "text/plain": [
       "['1 de março',\n",
       " 'Abidjan',\n",
       " 'Abolicionismo no Brasil',\n",
       " 'Academia Brasileira de Ciências']"
      ]
     },
     "execution_count": 11,
     "metadata": {},
     "output_type": "execute_result"
    }
   ],
   "source": [
    "result.links[9:13]"
   ]
  },
  {
   "cell_type": "code",
   "execution_count": 12,
   "metadata": {
    "executionInfo": {
     "elapsed": 13,
     "status": "ok",
     "timestamp": 1624714782600,
     "user": {
      "displayName": "Leonardo Mendonza",
      "photoUrl": "https://lh3.googleusercontent.com/a-/AOh14Gj5F1JVSmHodKCvWHgDPYmDyFo_nUl5lqEXNbsW=s64",
      "userId": "09205135724810578413"
     },
     "user_tz": 180
    },
    "id": "6dFi2hEHESIY"
   },
   "outputs": [],
   "source": [
    "df = pd.DataFrame(columns=['search_string', 'title', 'content', 'url', 'link1', 'link2','link3','link4'])"
   ]
  },
  {
   "cell_type": "code",
   "execution_count": 13,
   "metadata": {
    "executionInfo": {
     "elapsed": 19097,
     "status": "ok",
     "timestamp": 1624714801686,
     "user": {
      "displayName": "Leonardo Mendonza",
      "photoUrl": "https://lh3.googleusercontent.com/a-/AOh14Gj5F1JVSmHodKCvWHgDPYmDyFo_nUl5lqEXNbsW=s64",
      "userId": "09205135724810578413"
     },
     "user_tz": 180
    },
    "id": "Ap8kdPX_Dgwc"
   },
   "outputs": [],
   "source": [
    "search_list = wikipedia.search(\"Rio de Janeiro\")\n",
    "count = 0\n",
    "for search_string in search_list:\n",
    "  result = wikipedia.page(search_string)\n",
    "  df.loc[count] = [search_string]+[result.title]+[result.content]+[result.url]+[result.links[9:13][0]]+[result.links[9:13][1]]+[result.links[9:13][2]]+[result.links[9:13][3]]\n",
    "  count += 1"
   ]
  },
  {
   "cell_type": "code",
   "execution_count": 14,
   "metadata": {
    "colab": {
     "base_uri": "https://localhost:8080/",
     "height": 726
    },
    "executionInfo": {
     "elapsed": 31,
     "status": "ok",
     "timestamp": 1624714801687,
     "user": {
      "displayName": "Leonardo Mendonza",
      "photoUrl": "https://lh3.googleusercontent.com/a-/AOh14Gj5F1JVSmHodKCvWHgDPYmDyFo_nUl5lqEXNbsW=s64",
      "userId": "09205135724810578413"
     },
     "user_tz": 180
    },
    "id": "-BYbc2ekDgeW",
    "outputId": "fa1f376d-08df-4319-944b-dbab565dabb9"
   },
   "outputs": [
    {
     "data": {
      "text/html": [
       "<div>\n",
       "<style scoped>\n",
       "    .dataframe tbody tr th:only-of-type {\n",
       "        vertical-align: middle;\n",
       "    }\n",
       "\n",
       "    .dataframe tbody tr th {\n",
       "        vertical-align: top;\n",
       "    }\n",
       "\n",
       "    .dataframe thead th {\n",
       "        text-align: right;\n",
       "    }\n",
       "</style>\n",
       "<table border=\"1\" class=\"dataframe\">\n",
       "  <thead>\n",
       "    <tr style=\"text-align: right;\">\n",
       "      <th></th>\n",
       "      <th>search_string</th>\n",
       "      <th>title</th>\n",
       "      <th>content</th>\n",
       "      <th>url</th>\n",
       "      <th>link1</th>\n",
       "      <th>link2</th>\n",
       "      <th>link3</th>\n",
       "      <th>link4</th>\n",
       "    </tr>\n",
       "  </thead>\n",
       "  <tbody>\n",
       "    <tr>\n",
       "      <th>0</th>\n",
       "      <td>Rio de Janeiro</td>\n",
       "      <td>Rio de Janeiro</td>\n",
       "      <td>Rio de Janeiro (informalmente referida como Ri...</td>\n",
       "      <td>https://pt.wikipedia.org/wiki/Rio_de_Janeiro</td>\n",
       "      <td>1 de março</td>\n",
       "      <td>Abidjan</td>\n",
       "      <td>Abolicionismo no Brasil</td>\n",
       "      <td>Academia Brasileira de Ciências</td>\n",
       "    </tr>\n",
       "    <tr>\n",
       "      <th>1</th>\n",
       "      <td>Rio de Janeiro (estado)</td>\n",
       "      <td>Rio de Janeiro (estado)</td>\n",
       "      <td>Rio de Janeiro é uma das 27 unidades federativ...</td>\n",
       "      <td>https://pt.wikipedia.org/wiki/Rio_de_Janeiro_(...</td>\n",
       "      <td>Academia Militar das Agulhas Negras</td>\n",
       "      <td>Academia de Polícia Militar Dom João VI</td>\n",
       "      <td>Acre</td>\n",
       "      <td>Agnosticismo</td>\n",
       "    </tr>\n",
       "    <tr>\n",
       "      <th>2</th>\n",
       "      <td>Metrô do Rio de Janeiro</td>\n",
       "      <td>Metrô do Rio de Janeiro</td>\n",
       "      <td>O Metrô do Rio de Janeiro, também conhecido pe...</td>\n",
       "      <td>https://pt.wikipedia.org/wiki/Metr%C3%B4_do_Ri...</td>\n",
       "      <td>Aeroporto</td>\n",
       "      <td>Aeroporto Internacional de São Paulo-Guarulhos</td>\n",
       "      <td>Aeroporto Internacional do Rio de Janeiro-Galeão</td>\n",
       "      <td>Aeroporto de Jacarepaguá</td>\n",
       "    </tr>\n",
       "    <tr>\n",
       "      <th>3</th>\n",
       "      <td>Região Metropolitana do Rio de Janeiro</td>\n",
       "      <td>Região Metropolitana do Rio de Janeiro</td>\n",
       "      <td>A Região Metropolitana do Rio de Janeiro (RMRJ...</td>\n",
       "      <td>https://pt.wikipedia.org/wiki/Regi%C3%A3o_Metr...</td>\n",
       "      <td>1999</td>\n",
       "      <td>1 de julho</td>\n",
       "      <td>2000</td>\n",
       "      <td>2001</td>\n",
       "    </tr>\n",
       "    <tr>\n",
       "      <th>4</th>\n",
       "      <td>Lista de bairros da cidade do Rio de Janeiro</td>\n",
       "      <td>Lista de bairros da cidade do Rio de Janeiro</td>\n",
       "      <td>Esta é uma lista de bairros do município do Ri...</td>\n",
       "      <td>https://pt.wikipedia.org/wiki/Lista_de_bairros...</td>\n",
       "      <td>Anexo:Lista dos distritos de São Paulo por Índ...</td>\n",
       "      <td>Anil (bairro do Rio de Janeiro)</td>\n",
       "      <td>Arpoador</td>\n",
       "      <td>Arquipélago das Tijucas</td>\n",
       "    </tr>\n",
       "    <tr>\n",
       "      <th>5</th>\n",
       "      <td>Milícia (criminalidade no Brasil)</td>\n",
       "      <td>Milícia (criminalidade no Brasil)</td>\n",
       "      <td>No contexto da criminalidade brasileira, a par...</td>\n",
       "      <td>https://pt.wikipedia.org/wiki/Mil%C3%ADcia_(cr...</td>\n",
       "      <td>2012</td>\n",
       "      <td>2020</td>\n",
       "      <td>20 de agosto</td>\n",
       "      <td>27 de dezembro</td>\n",
       "    </tr>\n",
       "    <tr>\n",
       "      <th>6</th>\n",
       "      <td>Bandeira do estado do Rio de Janeiro</td>\n",
       "      <td>Bandeira do estado do Rio de Janeiro</td>\n",
       "      <td>A bandeira do estado do Rio de Janeiro é um do...</td>\n",
       "      <td>https://pt.wikipedia.org/wiki/Bandeira_do_esta...</td>\n",
       "      <td>Bandeira de Minas Gerais</td>\n",
       "      <td>Bandeira de Pernambuco</td>\n",
       "      <td>Bandeira de Rondônia</td>\n",
       "      <td>Bandeira de Roraima</td>\n",
       "    </tr>\n",
       "    <tr>\n",
       "      <th>7</th>\n",
       "      <td>Lista de governadores do Rio de Janeiro</td>\n",
       "      <td>Lista de governadores do Rio de Janeiro</td>\n",
       "      <td>Esta é uma lista de governantes do Rio de Jane...</td>\n",
       "      <td>https://pt.wikipedia.org/wiki/Lista_de_governa...</td>\n",
       "      <td>Agostinho Barbalho Bezerra</td>\n",
       "      <td>Agência Reguladora de Energia e Saneamento Bás...</td>\n",
       "      <td>Agência Reguladora de Serviços Públicos Conced...</td>\n",
       "      <td>Aires de Saldanha e Albuquerque Coutinho Matos...</td>\n",
       "    </tr>\n",
       "    <tr>\n",
       "      <th>8</th>\n",
       "      <td>Lista de escolas de samba e blocos carnavalesc...</td>\n",
       "      <td>Lista de escolas de samba e blocos carnavalesc...</td>\n",
       "      <td>Subdivisão do anexo Lista de escolas de samba ...</td>\n",
       "      <td>https://pt.wikipedia.org/wiki/Lista_de_escolas...</td>\n",
       "      <td>Acadêmicos de Santa Cruz</td>\n",
       "      <td>Acadêmicos de Vigário Geral</td>\n",
       "      <td>Acadêmicos do Cachambi</td>\n",
       "      <td>Acadêmicos do Cubango</td>\n",
       "    </tr>\n",
       "    <tr>\n",
       "      <th>9</th>\n",
       "      <td>Os quatro grandes do Rio de Janeiro</td>\n",
       "      <td>Os quatro grandes do Rio de Janeiro</td>\n",
       "      <td>Os quatro grandes do Rio de Janeiro são os clu...</td>\n",
       "      <td>https://pt.wikipedia.org/wiki/Os_quatro_grande...</td>\n",
       "      <td>Americano Futebol Clube</td>\n",
       "      <td>América Latina</td>\n",
       "      <td>América do Sul</td>\n",
       "      <td>Angra dos Reis Esporte Clube</td>\n",
       "    </tr>\n",
       "  </tbody>\n",
       "</table>\n",
       "</div>"
      ],
      "text/plain": [
       "                                       search_string  \\\n",
       "0                                     Rio de Janeiro   \n",
       "1                            Rio de Janeiro (estado)   \n",
       "2                            Metrô do Rio de Janeiro   \n",
       "3             Região Metropolitana do Rio de Janeiro   \n",
       "4       Lista de bairros da cidade do Rio de Janeiro   \n",
       "5                  Milícia (criminalidade no Brasil)   \n",
       "6               Bandeira do estado do Rio de Janeiro   \n",
       "7            Lista de governadores do Rio de Janeiro   \n",
       "8  Lista de escolas de samba e blocos carnavalesc...   \n",
       "9                Os quatro grandes do Rio de Janeiro   \n",
       "\n",
       "                                               title  \\\n",
       "0                                     Rio de Janeiro   \n",
       "1                            Rio de Janeiro (estado)   \n",
       "2                            Metrô do Rio de Janeiro   \n",
       "3             Região Metropolitana do Rio de Janeiro   \n",
       "4       Lista de bairros da cidade do Rio de Janeiro   \n",
       "5                  Milícia (criminalidade no Brasil)   \n",
       "6               Bandeira do estado do Rio de Janeiro   \n",
       "7            Lista de governadores do Rio de Janeiro   \n",
       "8  Lista de escolas de samba e blocos carnavalesc...   \n",
       "9                Os quatro grandes do Rio de Janeiro   \n",
       "\n",
       "                                             content  \\\n",
       "0  Rio de Janeiro (informalmente referida como Ri...   \n",
       "1  Rio de Janeiro é uma das 27 unidades federativ...   \n",
       "2  O Metrô do Rio de Janeiro, também conhecido pe...   \n",
       "3  A Região Metropolitana do Rio de Janeiro (RMRJ...   \n",
       "4  Esta é uma lista de bairros do município do Ri...   \n",
       "5  No contexto da criminalidade brasileira, a par...   \n",
       "6  A bandeira do estado do Rio de Janeiro é um do...   \n",
       "7  Esta é uma lista de governantes do Rio de Jane...   \n",
       "8  Subdivisão do anexo Lista de escolas de samba ...   \n",
       "9  Os quatro grandes do Rio de Janeiro são os clu...   \n",
       "\n",
       "                                                 url  \\\n",
       "0       https://pt.wikipedia.org/wiki/Rio_de_Janeiro   \n",
       "1  https://pt.wikipedia.org/wiki/Rio_de_Janeiro_(...   \n",
       "2  https://pt.wikipedia.org/wiki/Metr%C3%B4_do_Ri...   \n",
       "3  https://pt.wikipedia.org/wiki/Regi%C3%A3o_Metr...   \n",
       "4  https://pt.wikipedia.org/wiki/Lista_de_bairros...   \n",
       "5  https://pt.wikipedia.org/wiki/Mil%C3%ADcia_(cr...   \n",
       "6  https://pt.wikipedia.org/wiki/Bandeira_do_esta...   \n",
       "7  https://pt.wikipedia.org/wiki/Lista_de_governa...   \n",
       "8  https://pt.wikipedia.org/wiki/Lista_de_escolas...   \n",
       "9  https://pt.wikipedia.org/wiki/Os_quatro_grande...   \n",
       "\n",
       "                                               link1  \\\n",
       "0                                         1 de março   \n",
       "1                Academia Militar das Agulhas Negras   \n",
       "2                                          Aeroporto   \n",
       "3                                               1999   \n",
       "4  Anexo:Lista dos distritos de São Paulo por Índ...   \n",
       "5                                               2012   \n",
       "6                           Bandeira de Minas Gerais   \n",
       "7                         Agostinho Barbalho Bezerra   \n",
       "8                           Acadêmicos de Santa Cruz   \n",
       "9                            Americano Futebol Clube   \n",
       "\n",
       "                                               link2  \\\n",
       "0                                            Abidjan   \n",
       "1            Academia de Polícia Militar Dom João VI   \n",
       "2     Aeroporto Internacional de São Paulo-Guarulhos   \n",
       "3                                         1 de julho   \n",
       "4                    Anil (bairro do Rio de Janeiro)   \n",
       "5                                               2020   \n",
       "6                             Bandeira de Pernambuco   \n",
       "7  Agência Reguladora de Energia e Saneamento Bás...   \n",
       "8                        Acadêmicos de Vigário Geral   \n",
       "9                                     América Latina   \n",
       "\n",
       "                                               link3  \\\n",
       "0                            Abolicionismo no Brasil   \n",
       "1                                               Acre   \n",
       "2   Aeroporto Internacional do Rio de Janeiro-Galeão   \n",
       "3                                               2000   \n",
       "4                                           Arpoador   \n",
       "5                                       20 de agosto   \n",
       "6                               Bandeira de Rondônia   \n",
       "7  Agência Reguladora de Serviços Públicos Conced...   \n",
       "8                             Acadêmicos do Cachambi   \n",
       "9                                     América do Sul   \n",
       "\n",
       "                                               link4  \n",
       "0                    Academia Brasileira de Ciências  \n",
       "1                                       Agnosticismo  \n",
       "2                           Aeroporto de Jacarepaguá  \n",
       "3                                               2001  \n",
       "4                            Arquipélago das Tijucas  \n",
       "5                                     27 de dezembro  \n",
       "6                                Bandeira de Roraima  \n",
       "7  Aires de Saldanha e Albuquerque Coutinho Matos...  \n",
       "8                              Acadêmicos do Cubango  \n",
       "9                       Angra dos Reis Esporte Clube  "
      ]
     },
     "execution_count": 14,
     "metadata": {},
     "output_type": "execute_result"
    }
   ],
   "source": [
    "df.head(10)"
   ]
  },
  {
   "cell_type": "markdown",
   "metadata": {},
   "source": [
    "## Busca sobre Leonardo da Vinci"
   ]
  },
  {
   "cell_type": "code",
   "execution_count": 23,
   "metadata": {},
   "outputs": [],
   "source": [
    "result = wikipedia.page(\"Leonardo da Vinci\")"
   ]
  },
  {
   "cell_type": "code",
   "execution_count": 24,
   "metadata": {},
   "outputs": [
    {
     "data": {
      "text/plain": [
       "'Leonardo da Vinci'"
      ]
     },
     "execution_count": 24,
     "metadata": {},
     "output_type": "execute_result"
    }
   ],
   "source": [
    "result.title"
   ]
  },
  {
   "cell_type": "code",
   "execution_count": 25,
   "metadata": {},
   "outputs": [
    {
     "data": {
      "text/plain": [
       "'https://pt.wikipedia.org/wiki/Leonardo_da_Vinci'"
      ]
     },
     "execution_count": 25,
     "metadata": {},
     "output_type": "execute_result"
    }
   ],
   "source": [
    "result.url"
   ]
  },
  {
   "cell_type": "code",
   "execution_count": 26,
   "metadata": {},
   "outputs": [
    {
     "data": {
      "text/plain": [
       "'Leonardo di Ser Piero da Vinci (? pron.), ou simplesmente Leonardo da Vinci (Anchiano, 15 de abril de 1452 — Amboise, 2 de maio de 1519), foi um polímata nascido na atual Itália, uma das figuras mais importantes do Alto Renascimento, que se destacou como cientista, matemático, engenheiro, inventor, anatomista, pintor, escultor, arquiteto, botânico, poeta e músico. É ainda conhecido como o percursor da aviação e da balística. Leonardo frequentemente foi descrito como o arquétipo do homem do Renascimento, alguém cuja curiosidade insaciável era igualada apenas pela sua capacidade de invenção. É considerado um dos maiores pintores de todos os tempos e como possivelmente a pessoa dotada de talentos mais diversos a ter vivido. Segundo a historiadora de arte Helen Gardner, a profundidade e o alcance de seus interesses não tiveram precedentes e \"sua mente e personalidade parecem sobre-humanos para nós, e o homem em si [nos parece] misterioso e distante\".Nascido como filho ilegítimo de um notário, Piero da Vinci, e de uma camponesa, Caterina, em Vinci, na região da Florença, foi educado no ateliê do renomado pintor florentino, Verrocchio. Passou a maior parte do início de sua vida profissional a serviço de Ludovico Sforza (Ludovico il Moro), em Milão; trabalhou posteriormente em Veneza, Roma e Bolonha, e passou seus últimos dias na França, numa casa que lhe foi presenteada pelo rei Francisco I. Leonardo era, como até hoje, conhecido principalmente como pintor. Duas de suas obras, a Mona Lisa e A Última Ceia, estão entre as pinturas mais famosas, mais reproduzidas e mais parodiadas de todos os tempos, e sua fama se compara apenas à Criação de Adão, de Michelangelo. O desenho do Homem Vitruviano, feito por Leonardo, também é tido como um ícone cultural, e foi reproduzido por todas as partes, desde o euro até camisetas. Cerca de quinze de suas pinturas sobreviveram até os dias de hoje;  o número pequeno se deve às suas experiências constantes — e frequentemente desastrosas — com novas técnicas, além de sua procrastinação crônica. Ainda assim, estas poucas obras, juntamente com seus cadernos de anotações — que contêm desenhos, diagramas científicos, e seus pensamentos sobre a natureza da pintura — formam uma contribuição às futuras gerações de artistas que só pode ser rivalizada à de seu contemporâneo, Michelangelo.Leonardo é reverenciado pela sua engenhosidade tecnológica; concebeu ideias muito à frente de seu tempo, como um protótipo de helicóptero, um tanque de guerra, o uso da energia solar, uma calculadora, o casco duplo nas embarcações, e uma teoria rudimentar das placas tectônicas. Um número relativamente pequeno de seus projetos chegou a ser construído durante sua vida (muitos nem mesmo eram factíveis), mas algumas de suas invenções menores, como uma bobina automática, e um aparelho que testa a resistência à tração de um fio, entraram sem crédito algum para o mundo da indústria. Como cientista, foi responsável por grande avanço do conhecimento nos campos da anatomia, da engenharia civil, da óptica e da hidrodinâmica. Leonardo da Vinci é considerado por vários o maior gênio da história, devido a sua multiplicidade de talentos para ciências e artes, sua engenhosidade e criatividade, além de suas obras polêmicas. Num estudo realizado em 1926 seu QI foi estimado em cerca de 180.\\n\\n\\n== Biografia ==\\n\\n\\n=== Genealogia ===\\n\\nLeonardo nasceu em 15 de abril de 1452, \"na terceira hora da noite\", de um sábado, no vilarejo de Anchiano, na comuna italiana de Vinci, na Toscana, situada no vale do rio Arno, dentro do território dominado à época por Florença. Era filho ilegítimo de Messer Piero Fruosino di Antonio da Vinci, um notário florentino e Caterina di Meo Lippi, uma órfã de 15 anos, camponesa que pode ter sido uma escrava oriunda do Oriente Médio.  Leonardo não tinha um sobrenome no sentido atual; \"da Vinci\" significa simplesmente \"de Vinci\": seu nome completo de batismo era \"Leonardo di ser Piero da Vinci\", que significava \"Leonardo, (filho) de (Mes)ser, Piero de Vinci\".Estudos genealógicos recentes afirmam que possuía cerca de vinte e dois meio-irmãos.\\n\\n\\n=== Infância, 1452–1468 ===\\n\\nPouco se sabe da infância de Leonardo. Provavelmente passou os seus primeiros quatro ou cinco anos no vilarejo de Anchiano, e depois do casamento de sua mãe com um lavrador de nome Accattabriga di Piero del Vaca, arranjado por Piero pouco após o nascimento do filho, mudou-se para a casa da família de seu pai então casado com uma jovem de dezesseis anos chamada Albiera di Giovanni Amadori, com a qual Leonardo tinha uma boa relação, a quem chamava de madrinha, em companhia de  seu avô, Antonio, e tio, Francesco, na paróquia de Santa Croce em Vinci, em um ambiente bucólico aconchegante, o que é significativo na personalidade de um Leonardo ligado a natureza. Albiera  morreu muito cedo sem filhos. A morte do seu avô  Antonio a quem muito estimava deu-se logo após em 1468, e Leonardo apesar de ilegítimo continuara filho único no segundo casamento do seu pai Piero, com Francesca di Giuliano Lanfredini; testemunharia a mais dois casamentos deste, até que em 1476, quando viviam em Florença, Piero teve o tão esperado filho legítimo.  Em sua vida adulta, Leonardo só se recordaria de dois incidentes de sua infância, um deles, tinha como presságio:\\n\\nO segundo ocorreu enquanto ele brincava nas montanhas da região, e depois de vagar por alguma distância entre as rochas projetadas acima, cheguei à boca de uma imensa caverna, diante da qual me quedei por algum tempo estupefato, pois ignorava a sua existência (…) e após ficar ali algum tempo, de repente despertaram dentro de mim duas emoções — medo e desejo — medo da escura e ameaçadora caverna, desejo de ver se haveria alguma coisa maravilhosa lá dentro.A infância e a juventude de Leonardo foram tema de diversas conjunturas históricas. Giorgio Vasari, biógrafo do século XVI que escreveu sobre os pintores do Renascimento, conta como um camponês local teria pedido a Ser Piero que mandasse seu filho pintar um quadro numa placa redonda ou escudo. Leonardo respondeu com uma pintura de serpentes soltando fogo — ou mesmo um dragão — tão terrível e mesmo assim tão surpreendente que Ser Piero decidiu vender a um negociante de arte florentino que, por sua vez, a vendeu ao Duque de Milão. Enquanto isso, com parte do lucro da venda, Ser Piero comprou uma placa, decorada com um coração penetrado por uma flecha, que ele deu ao camponês. Leonardo tornou-se um jovem instruído e sempre referido pelos estudiosos como dono de uma bela aparência de fartos cabelos louros e olhos claros, além de uma personalidade afável com o trato das pessoas.\\n\\n\\n=== Ateliê de Verrocchio, 1469–1476 ===\\n\\nNa sua adolescência, Leonardo foi fortemente influenciado por duas grandes personalidades da época, Lourenço de Médici e o grande artista Andrea del Verrocchio. Em 1469, com dezessete anos, Leonardo passou a ser aprendiz de um dos mais bem-sucedidos artistas de seu tempo, Andrea di Cione, conhecido como Verrocchio (Olho verdadeiro). O ateliê de Verrocchio estava no centro das correntes intelectuais de Florença, o que garantiu ao jovem Leonardo uma educação nas ciências humanas. Outros pintores famosos que passaram por um aprendizado neste mesmo ateliê foram Ghirlandaio, Perugino, Botticelli e Lorenzo di Credi. Leonardo foi exposto desde cedo a uma vasta gama de técnicas, e teve a oportunidade de aprender desenho técnico, química, metalurgia, mecânica, carpintaria, a trabalhar com materiais como couro e metal, fazer moldes, além das técnicas artísticas de desenho, pintura, escultura e modelagem.Boa parte da produção de pinturas do ateliê de Verrocchio era feita por seus funcionários. De acordo com Vasari, Leonardo colaborou com Verrocchio em seu O Batismo de Cristo, pintando o jovem anjo da esquerda, que segura a túnica de Jesus de maneira tão superior ao seu próprio mestre que Verrocchio teria decidido nunca mais pintar. Isto provavelmente é um exagero; mas um exame atento da pintura mostra que existem diversos retoques feitos sobre a têmpera utilizando a nova técnica de pintura a óleo, como o cenário, as rochas que podem ser vistas ao fundo e boa parte da figura do próprio Jesus, todas testemunhas da mão de Leonardo.O próprio Leonardo pode ter sido o modelo para duas obras de Verrocchio, incluindo a estátua de bronze de David, no Bargello, e o Arcanjo em Tobias e o Anjo. Na altura apenas se disse que a estátua de David tinha sido inspirada num dos mais belos aprendizes do atelier de Verrocchio.Em 1472, com vinte anos de idade, Leonardo se qualificou para o cargo de mestre na Guilda de São Lucas, uma guilda de artistas e doutores em medicina, porém mesmo depois de seu pai ter montado seu próprio ateliê, sua ligação com Verrocchio permaneceu tal que ele continuou a colaborar com ele. Aos poucos, as pessoas da corte passam a fazer encomendas diretamente a Leonardo. Sua obra mais antiga a ser datada é um desenho em pena e tinta do vale do Arno, feito em 5 de agosto de 1473.\\n\\n\\n=== Vida profissional, 1476–1513 ===\\n\\nEm 1476, Leonardo da Vinci, juntamente com mais três alunos do ateliê de Verrocchio, foram acusados de sodomia; segundo a acusação referente a Leonardo, ele teria tido relações homossexuais com Jacopo Saltarelli, um jovem de 17 anos muito popular à época em Florença como prostituto. Diante, no entanto, da falta de provas concretas que confirmassem semelhante acusação contra Leonardo e outros três rapazes, além de um deles ser membro de uma família com conexão aos Médici, o caso foi arquivado \"com a condição de que não fossem feitas novas acusações\". Porém, algumas semanas depois, surgiu uma nova acusação em Latim, que foi retirada por falta de testemunhas com a mesma condição de antes. A partir desta data até 1478 não existem registros nem de obras suas nem de seu paradeiro, embora se costuma presumir que Leonardo tenha estado no ateliê, em Florença, entre 1476 e 1481. Em 1478 foi-lhe encomendada a pintura de um retábulo para a Capela de São Bernardo, e a Adoração dos Magos, em 1481, para os monges de San Donato a Scopeto. Esta importante encomenda foi interrompida com a ida de Leonardo para Milão.Em 1482, Leonardo, que de acordo com Vasari era um músico muito talentoso, criou uma lira de prata, com a forma da cabeça de um cavalo. Lourenço de Médici, dito \"il Magnifico\", grande humanista, enviou Leonardo, a portar a lira como um presente, a Milão, para selar a paz com Ludovico Sforza (dito il Moro, \"o Mouro\"), Duque de Milão não oficial. Foi nesta época que Leonardo da Vinci escreveu uma carta a Ludovico, citada frequentemente, na qual ele descreve as coisas diversas e maravilhosas que conseguia realizar no campo da engenharia, e informando o seu senhor que ele também podia pintar, apesar de muitas de suas ideias estarem no campo da fantasia e só um sistema de rodete, idealizado em 1490, chegou a ser usado no campo de batalha.Leonardo continuou a trabalhar em Milão, entre 1482 e 1499. Recebeu a encomenda de pintar a Virgem dos Rochedos para a Confraria da Imaculada Conceição, e a Última Ceia para o mosteiro de Santa Maria delle Grazie. Enquanto vivia em Milão, entre 1493 e 1495, Leonardo listou uma mulher, chamada Caterina, entre seus dependentes, nas suas declarações de imposto de renda. Quando ela morreu, em 1495, a lista dos gastos com o funeral sugere que ela pode ter sido sua mãe.Trabalhou em diversos projetos para Ludovico, incluindo o preparo de carros alegóricos e desfiles para ocasiões especiais, o projeto de uma cúpula para a Catedral de Milão, e um modelo de um imenso monumento equestre para Francesco Sforza, o antecessor de Ludovico. Setenta toneladas de bronze foram separadas para a sua confecção; o monumento permaneceu inacabado durante anos, o que não foi comum na carreira de Leonardo. Em 1492 um modelo de argila foi terminado; ele era maior, em tamanho, que as duas únicas estátuas equestres do Renascimento, a estátua de Gattemelata, em Pádua, e a de Bartolomeo Colleoni, de Verrocchio, em Veneza, e ficou conhecido como o \"Gran Cavallo\".Leonardo começou a fazer os projetos detalhados para a sua fundição; Michelangelo, no entanto, sugeriu, de maneira indelicada, que Leonardo seria incapaz de fazê-lo. Em novembro de 1494 Ludovico usou o bronze para fabricar canhões, visando defender a cidade da invasão de Carlos VIII da França.No início da Segunda Guerra Italiana, em 1499, as tropas invasoras francesas de Luís XII sucessor de Carlos VIII, utilizaram-se do modelo de argila do Gran Cavallo como alvo para praticar tiro. Com a deposição de Ludovico Sforza, Leonardo, juntamente com seu assistente, Salai, e seu amigo, o matemático Luca Pacioli, abandonou Milão e fugiu para Veneza, passando por Mântua, sendo que em Veneza foi empregado como arquiteto e engenheiro militar, planejando métodos de defender a cidade de um ataque naval.\\n\\nAo retornar a Florença, em 1500, foi recebido, juntamente com sua família e criadagem, pelos monges servitas do mosteiro de Santissima Annunziata, onde tinha à sua disposição um ateliê. Foi ali que, de acordo com Vasari, criou o desenho da Virgem, o Menino, Sant\\'Ana e São João Batista — uma obra que conquistou tanta admiração que homens e mulheres, jovens e velhos vinham vê-la, em massa, como se estivessem frequentando um grande festival. Em 1502, Leonardo passou a trabalhar para César Bórgia, filho do papa Alexandre VI, atuando como arquiteto e engenheiro militar, e viajando por toda a Itália com seu patrão; foi nessa viagem que conheceu Nicolau Maquiavel. Retornou a Florença, onde voltou a fazer parte da Guilda de São Lucas, em 18 de outubro de 1503; recebeu a encomenda de um retrato: a Mona Lisa, e passou os dois anos seguintes desenhando e pintando um grande mural da Batalha de Anghiari para a Signoria, enquanto Michelangelo foi responsável pela peça que a acompanhava, A Batalha de Cascina. Ainda em Florença, em 1504, fez parte de um comitê formado para transferir, contra a vontade do próprio autor, Michelangelo, a célebre estátua do Davi.Em 1506, retornou a Milão. Muitos dos seus pupilos e seguidores mais importantes, no campo da pintura, ou o conheceram ou trabalharam com ele naquela cidade, incluindo Bernardino Luini, Giovanni Antonio Boltraffio e Marco D\\'Oggione. Seu pai morreu em 1504, e como resultado, em 1507 Leonardo teve de voltar a Florença para resolver com seus irmãos os problemas decorrentes da herança e das propriedades paternas. No ano seguinte, retornou a Milão por solicitação do governador francês Charles d\\'Amboise, para resolver problemas de trabalhos inconclusos, onde passou a viver em sua própria casa, na região da Porta Orientale, na paróquia de São Bábila. Após mercenários suíços expulsarem os franceses em 1512, Massimiliano Sforza filho de Ludovico, ascendeu ao poder, e Leonardo ficou sem patrono. No ano seguinte foi convidado por Juliano de Médici, filho de il Magnifico, para viajar para Roma, que estava sob o controle do papa Leão X, um Médici.\\n\\n\\n=== Últimos anos, 1513–1519 ===\\n\\nDe setembro de 1513 a 1516, Leonardo passou a maior parte do seu tempo vivendo no Belvedere, no Vaticano, em Roma, período durante o qual Rafael e Michelangelo também estavam em atividade. Em outubro de 1515, Francisco I da França reconquistou Milão; Leonardo estava presente no encontro entre Francisco I e o papa Leão X, em 19 de dezembro, ocorrido em Bolonha.Foi de Francisco que Leonardo recebeu a encomenda de construir um leão mecânico, que pudesse caminhar para a frente, e abrir seu peito, revelando um ramalhete de lírios.  Em 1516, passou a trabalhar diretamente a serviço de Francisco, e foi-lhe concedido o solar de Clos Lucé, próximo à residência do rei, no Castelo de Amboise. Foi aqui que ele passou os três últimos anos de sua vida, acompanhado por seu amigo e aprendiz, o conde Francesco Melzi, e sustentado por uma pensão que totalizava 10 000 escudos.Leonardo morreu em Clos Lucé, em 2 de maio de 1519. Francisco havia se tornado um grande amigo; e Vasari relata que o rei segurava a cabeça de Leonardo em seus braços quando este morreu — embora a história, amada pelos franceses e retratada em pinturas românticas de artistas como Ingres e Angelica Kauffmann, possa ser mais lenda do que realidade.\\n\\nVasari também conta que, em seus últimos dias, Leonardo teria pedido que um padre lhe fosse trazido, para que se confessasse e recebesse a extrema unção. De acordo com o que pediu em seu testamento, sessenta mendigos seguiram o seu cortejo. Foi enterrado na Capela de Saint-Hubert, no Castelo de Amboise. Melzi foi o principal herdeiro e inventariante, e recebeu, além de todo o dinheiro de Leonardo, todos os seus cadernos, ferramentas, sua biblioteca e seus objetos pessoais. Leonardo também se lembrou de seu antigo pupilo e companheiro, Salai, e de seu criado, Battista di Vilussis; cada um recebeu uma metade das vinhas de Leonardo, sendo que de Salai tornaram-se posses as pinturas que acompanhavam o mestre desde então. Seus irmãos também receberam terras, e sua criada recebeu um manto negro de bom material, com as bordas de pele.Cerca de vinte anos após a morte de Leonardo, o rei Francisco teria falado, segundo o escultor Benvenuto Cellini: Nunca nasceu no mundo outro homem que soubesse tanto quanto Leonardo, nem tanto [por seus conhecimentos] de pintura, escultura e arquitetura, mas por ele ter sido um grande filósofo.\\n\\n\\n== Relacionamentos e influências ==\\n\\n\\n=== Florença – contexto social e artístico de Leonardo ===\\n\\nLeonardo começou seu aprendizado com Verrocchio em 1466, no ano em que morreu o mestre do próprio Verrocchio, o grande escultor Donatello. O pintor Uccello, cujas experiências com a perspectiva influenciariam o desenvolvimento da pintura de paisagem, já era um homem de idade muito avançada, e os pintores Piero della Francesca e Fra Filippo Lippi, o escultor Luca della Robbia, e o arquiteto e escritor Alberti já estavam em seus sessenta anos de idade. Entre os artistas mais bem sucedidos da geração seguinte estavam, além do próprio professor de Leonardo, Verrocchio, Antonio Pollaiuolo e o escultor Mino de Fiesole, cujos bustos realistas são até hoje as evidências mais confiáveis da aparência real do pai de Lourenço de Médici, Piero, e de seu tio, Giovanni.Leonardo passou sua juventude numa Florença decorada pelas obras destes artistas, e pelos contemporâneos de Donatello, como Masaccio — cujos afrescos figurativos estavam imbuídos de realismo e emoção, ou de Ghiberti, cujas Portas do Paraíso, folheadas a ouro, mostravam a arte da combinação de composições figurativas complexas com fundos arquitetônicos ricamente detalhados. Piero della Francesca fez um estudo detalhado da perspectiva, e foi o primeiro pintor a fazer um estudo científico da luz. Estes estudos, juntamente com o Trattato de Leone Battista Alberti, teriam um efeito profundo nos artistas mais jovens, e especialmente nas próprias observações e obras de Leonardo.A Expulsão do Jardim do Éden, de Massaccio, mostrando Adão e Eva nus e transtornados, abandonando o Jardim do Éden, criou uma imagem tremendamente expressiva da forma humana, representada em três dimensões através do uso de luz e sombra — algo que seria desenvolvido nas obras de Leonardo a ponto de influenciar a história da pintura a partir de então. As influências humanistas do Davi de Donatello podem ser vistas nas pinturas da velhice de Leonardo, em especial o São João Batista.Uma tradição recorrente em Florença era a de pequenos retábulos retratando a Virgem e o Menino. Muitos eram feitos em têmpera ou terracota vitrificada, pelos ateliês de Filippo Lippi, Verrocchio e da prolífica família della Robbia. Leonardo foi contemporâneo de Botticelli, Ghirlandaio e Perugino, embora fossem um pouco mais velhos que ele. Teria conhecido todos no atelier de Verrocchio, com quem eles tinham ligações, e na Academia dos Médici. Botticelli era especialmente preferido pela família Médici, e seu sucesso como pintor era praticamente garantido. Ghirlandaio e Perugino eram prolíficos, e também geriam grandes ateliês; foram responsáveis por comissões realizadas com competência, para patronos satisfeitos, que apreciavam a habilidade de Ghirlandaio de retratar os cidadãos ricos de Florença em grandes afrescos religiosos, e a habilidade de Perugino em criar multidões de santos e anjos de inescapável doçura e inocência.Em 1476, durante o período em que Leonardo esteve ligado ao atelier de Verrocchio, o pintor flamengo Hugo van der Goes chegou em Florença, trazendo o Retábulo de Portinari e as novas técnicas de pintura do Norte da Europa que afetariam profundamente os pintores florentinos do período. Em 1479 o pintor siciliano Antonello da Messina, que trabalhava exclusivamente com óleos, viajou para o norte, em direção a Veneza, onde o principal pintor da cidade, Giovanni Bellini, também adotara a técnica da pintura a óleo, transformando-a rapidamente na técnica preferida do local. Leonardo também visitaria Veneza algum tempo depois.Como dois arquitetos contemporâneos, Bramante e Antonio da Sangallo, o Velho, Leonardo experimentou com projetos para igrejas planejadas centralmente, diversas das quais aparecem em seus diários, tanto em plantas quanto vistas — embora nenhum destes projetos tenha chegado a ser posto em prática.Os contemporâneos políticos de Leonardo foram Lourenço de Médici (il Magnifico), três anos mais velhos que ele, e seu popular irmão mais novo, Juliano, morto na Congiura dei Pazzi de 1478. Ludovico Sforza (il Moro), que governou Milão entre 1479 e 1499, período durante o qual Leonardo foi enviado como embaixador em nome da corte dos Médici, também tinha aproximadamente a mesma idade.Juntamente com Alberti, Leonardo passou a frequentar o lar dos Médici, e através deles conheceu filósofos humanistas como Marsilio Ficino, proponente do neoplatonismo, Cristoforo Landino, autor de comentários sobre os escritos da Antiguidade Clássica, e João Argyropoulos, professor de grego e tradutor das obras de Aristóteles. Outro contemporâneo de Leonardo que também teve seu nome associado à Academia dos Médici foi o jovem e brilhante poeta e filósofo Pico della Mirandola.Embora costumem ser agrupados como os três gigantes do Alto Renascimento, Leonardo, Michelangelo e Rafael não pertenceram à mesma geração. Leonardo tinha vinte e três anos quando Michelangelo nasceu, e trinta e um no nascimento de Rafael, este último teve uma vida curta, morrendo em 1520, no ano após a morte de Leonardo; já Michelangelo continuou criando por mais 45 anos.\\n\\n\\n=== Vida pessoal ===\\n\\nAo longo da vida de Leonardo, seu extraordinário poder de inventividade, sua \"espetacular beleza física\", \"graça infinita\", \"grande força e generosidade\", \"espírito régio e tremendo alcance mental\", como foram descritos por Vasari, atraíram a curiosidade daqueles que o cercavam. Diversos autores especularam sobre os vários aspectos da personalidade de Leonardo; um deles, a sua adoção de éticas e práticas pessoais, que podem ser ocasionadas de sua crescente admiração pela natureza e suas criaturas, como pode ser exemplificado por seu vegetarianismo e o hábito, descrito também por Vasari, de comprar pássaros engaiolados e libertá-los.Leonardo teve muitos amigos que se tornaram profissionais renomados em seus campos, ou que são célebres até hoje por sua importância histórica. Entre eles está o matemático Luca Pacioli, com quem ele colaborou num livro na década de 1490, assim como Franchinus Gaffurius e Isabella d\\'Este, a grande dama do Renascimento. Além de suas amizades, Leonardo mantinha sua vida privada em segredo. Sua sexualidade foi alvo frequente de estudos, análises e especulações. Esta tendência já se tinha iniciado no meio do século XV, e tomou novo ímpeto nos séculos XIX e XX, especialmente a partir de Sigmund Freud.\\n\\n\\n=== Assistentes e pupilos ===\\n\\nOs relacionamentos mais íntimos de Leonardo foram com seus dois pupilos, Gian Giacomo Caprotti da Oreno, apelidado Salai ou il Salaino (\"pequeno diabo\" na gíria da época), que entrou para o seu convívio familiar em 1490. Depois de apenas um ano, Leonardo fez uma lista de suas contravenções, chamando-o de \"um ladrão, um mentiroso, teimoso, e glutão\", depois de ele ter roubado dinheiro e objetos de valor em pelo menos cinco ocasiões, e gastar uma fortuna em roupas. Ainda assim, em seus primeiros anos, os cadernos de Leonardo contêm diversas pinturas do estudante, que permaneceu como parte da família de Leonardo pelos trinta anos seguintes. Salai também fez uma série de pinturas, sob o nome de Andrea Salai; embora Vasari tenha alegado que Leonardo \"ensinou-lhe muito sobre pintura\", sua obra é geralmente considerada como tendo um mérito artístico menor do que outros pupilos de Leonardo, como Marco d\\'Oggione e Boltraffio. Em 1515 Salai pintou uma versão nua da Mona Lisa, conhecida como Mona Vanna. O próprio Salai era proprietário da Mona Lisa na ocasião de sua morte, em 1525, e em seu testamento ela foi estimada em 505 liras, um valor excepcionalmente alto para um pequeno retrato.Em 1506 Leonardo acolheu outro pupilo, o conde Francesco Melzi, filho de um aristocrata da Lombardia. Melzi, estudante predileto de Leonardo, viajou com o tutor para a França, onde esteve ao seu lado durante todo o fim de sua vida. Com a morte de Leonardo, Melzi herdou as coleções, manuscritos e obras artísticas e científicas de Leonardo, patrimônio que ele administrou fielmente a partir de então.\\n\\n\\n== Obra artística ==\\n\\n\\n=== Introdução ===\\n\\nApesar do recente interesse e admiração por Leonardo como cientista e inventor, durante mais de quatrocentos anos a sua enorme fama apoiou-se nos seus feitos como pintor e num punhado de obras, autenticadas ou atribuídas a ele, que têm sido vistas desde então como algumas das obras-primas supremas já criadas pelo homem.Estas pinturas ficaram famosas por uma série de qualidades que foram muito imitadas por estudantes e discutidas extensivamente por conhecedores e críticos. Entre algumas destas qualidades que tornam a obra de Leonardo única estão as técnicas inovadoras que ele usou na aplicação da tinta, seu conhecimento detalhado de anatomia, luz, botânica e geologia, seu interesse na fisiognomonia e na maneira pelo qual os humanos registram emoções em suas expressões e gestos, seu uso inovador da forma humana em composições figurativas, e o uso da graduação sutil da tonalidade. Todas estas qualidades encontram-se reunidas em suas obras mais famosas, como a Mona Lisa, A Última Ceia e a Virgem dos Rochedos.Leonardo não foi um pintor prolífico, mas foi o mais prolífico desenhista (projetista), mantendo diários cheios de pequenos rascunhos e desenhos detalhados registrando todas as coisas que lhe chamavam atenção. Juntamente com os diários, existem diversos estudos de pinturas, alguns dos quais podem ser identificados como preparações para trabalhos específicos como A Adoração dos Magos, a Virgem dos Rochedos e A Última Ceia. Seu desenho mais antigo, é o Vale do Arno (1473), que ostenta as montanhas tão frequentes em suas obras.Entre seus desenhos mais famosos está o Homem Vitruviano, um estudo das proporções do corpo humano, e a Cabeça de Anjo, esboço de Uriel em A Virgem dos Rochedos, no Louvre, e um grande desenho em giz, A Virgem, o Menino, Sant\\'Ana e São João Batista, na National Gallery em Londres. Este desenho emprega o efeito sutil do sfumato, técnica de sombreado presente em Mona Lisa. Pensa-se que Leonardo nunca fez uma pintura a partir dele, mas há uma notável semelhança com a pintura A Virgem e o Menino com Santa Ana, atualmente no Louvre.Outros desenhos de interesse incluem numerosos estudos geralmente referidos como \"caricaturas\", porque, embora exagerados, parecem ser baseados em observação de modelos vivos, como Cabeças Grotescas. Vasari refere que, se Leonardo encontrasse pessoas com personalidade interessante, ele iria acompanhá-las o dia todo observando. Existem numerosos estudos de belos jovens, muitas vezes associados a Salai, com sua rara e muito admirada beleza facial, o então chamado \"perfil grego\". Outros estudos muito detalhados são os de roupagens, um bom exemplo é o macabro Retrato de Bernardo di Bandino Baroncelli executado, em que com desapaixonada integridade Leonardo descreve as vestes do participante da Congiura dei Pazzi.\\n\\n\\n=== Primeiras obras ===\\n\\n\\n==== Em Florença, 1469–1482 ====\\n\\nLeonardo da Vinci nasceu no seio de uma família cujas posses equivaliam à riqueza das famílias que hoje chamamos classe-média, instruída e altruísta. Jovem, Leonardo revelou desde cedo uma aptidão genial para o desenho, área em que, tecnicamente, mais se destacou, pelo menos na sua carreira prematura.Segundo, Giorgio Vasari, sua família, amiga íntima da família de Verrocchio, tinha um estreito contato com a arte florentina. Messer Piero, pai de Da Vinci, levou um dia alguns dos trabalhos de Leonardo ao ateliê do pintor, questionando-o sobre o eventual talento de Leonardo e se valeria a pena investir no jovem. Verrocchio ficou espantado com a habilidade de Leonardo e, prontamente, aceitou o jovem no seu estúdio.Os trabalhos prematuros de Leonardo resumiam-se, de fato, a desenhos, esboços a carvão, tinta nanquim ou aguada. Embora somente se conheça um retrato masculino a óleo na sua obra, o pintor explorou com ênfase o retrato da virilidade masculina, um interesse que se revela mesmo neste tempo de aprendiz. Um dos seus trabalhos mais intrigantes deste início de carreira é Retrato de Bernardo di Baroncelli executado, já no estúdio de Verrocchio, a pena e tinta, realizado a caneta de aparo sobre papel preparado, que conclui o maior registro desenhado, realizado em 29 de dezembro de 1479. Trata-se do retrato de um cadáver, um participante da Congiura dei Pazzi, executado pelo assassinato de Juliano de Médici. Na inscrição no topo do papel, Leonardo descreve o vestuário do executado, incluindo as cores com sua típica escrita invertida. Na margem inferior direita do trabalho aparece ainda uma cabeça. Referência notável para o seu trabalho é a facilidade e o domínio do traço, que revelaria mais tarde no pincel. Duas outras pinturas parecem datar deste seu período no ateliê de Verrocchio, ambas Anunciações. Uma é pequena, com 59 centímetros por 14; é uma predella, destinada a adornar a base de uma composição maior — neste caso, uma pintura de Lorenzo di Credi da qual ela foi separada. A outra é uma obra muito maior, com dois metros e 17 centímetros. Em ambas as Anunciações Leonardo utilizou-se de um arranjo formal (como nas célebres pinturas de Fra Angelico sobre o mesmo assunto), da Virgem Maria sentada ou ajoelhada à direita do quadro, com um anjo de perfil se aproximando pela esquerda, com as asas eretas e portando um lírio em um cenário aberto, com um rico jogo de perspectiva linear. Embora tenha sido atribuído anteriormente a Ghirlandaio, a maior das duas obras é considerada de maneira unânime nos dias de hoje como sendo de Leonardo.Na menor das pinturas, Maria desvia seus olhos, e dobra suas mãos, num gesto que simbolizava a submissão à vontade de Deus; na outra, no entanto, Maria não está nem um pouco submissa. A bela jovem, interrompida em sua leitura por este inesperado mensageiro, coloca um dedo na sua Bíblia para marcar o lugar onde parou e levanta sua outra mão num gesto formal de saudação ou surpresa. Esta jovem tranquila parece aceitar seu papel como a Mãe de Deus, não com resignação, mas com confiança. Nesta pintura, o jovem Leonardo apresenta a face humanista da Virgem Maria, reconhecendo o papel da humanidade na encarnação de Deus.\\n\\nUma série de estudos meticulosos o levou a concretizar trabalhos como A Anunciação ou a futura Virgem do Cravo. O estudo de roupagens das personagens das obras são um dos marcos do seu percurso artístico, concebidos com uma primazia notável. Baseando-se em esculturas ou modelos de madeira ou terracota, cobertos por panejamentos e joias — algo em voga, para não ter que pagar cortesãs para posarem para si — Leonardo desenvolveu as suas competências no desenho e sabendo-o bem, no seu Trattato della Pittura, aconselha os artistas a praticarem o desenho através do estudo de relevos e esculturas. Estes estudos, primeiramente postos em prática pelo artista, prepararam um génio sagaz e um mestre inconfundível. O humanista Paolo Giovio e Vasari referem constantemente nas suas obras, a perfeição do jovem artista nos seus desenhos. Vasari refere mesmo que \"os desenhos de Da Vinci são tão perfeitos e relatam tão incansável procura por novos detalhes, com um esforço de imaginação soberbo, que dificilmente os conseguem igualar.\"Nesta época, Leonardo desenvolveu um vitium (na acepção portuguesa, uma «obsessão») pela perfeição das obras e desenvolveu imensamente a sua técnica, que o levou a criar outras inéditas, como o sfumato, hoje conhecido através da Mona Lisa. Tal exigência para consigo próprio levaria à não conclusão de diversos trabalhos, pois assim que os iniciava punha-os de lado, tal era a rapidez e eficácia com que aprendia novas técnicas.Ao mesmo tempo em que realizava os seus famosos estudos de roupagens, Leonardo concretizou vários desenhos e estudos a partir da natureza. Estes são tipificados pelo trabalho que produziu ainda enquanto aprendiz, assim como uma das primeiras obras datadas constantes entre a coleção da Galeria dos Uffizi, atualmente. No canto superior de o Vale do Arno aponta, na sua acostumada escrita invertida, «no dia de Santa Maria do Milagre da Neve, 5 de agosto de 1473».Estudo a pena e tinta sobre um suporte preparatório quase invisível, mostra a vista sobre um vale com montes e escarpas de ambos os lados, abrindo no fundo uma escassa visibilidade do mar. A vista poderá ser do caminho entre Vinci e Pistoia e, provavelmente, terá sido esboçado a lápis ao ar livre in loco, e depois completada a pena e tinta no ateliê. No início do século XX, Woldemar von Seidlitz compreendeu as fortificações de Papiano nas muralhas e torres numa colina à esquerda da composição. A importância deste desenho não se reflete só no fato de ter sido feito por Leonardo, mas sim, em figurar como um dos primeiros desenhos autónomos de paisagens de toda a História da Arte.Estes estudos da natureza e de modelos vivos eram postos em prática nas suas obras pintadas, como no Batismo de Cristo, onde, conclusivamente, pintou o anjo que segura às vestimentas de Cristo, que é de longe, muito melhor e elegante que as figuras pintadas por Verrocchio e Botticelli, e a paisagem de sutis transições de tons cromáticos, com incríveis efeitos da luz, desfocando contornos de montanhas e colinas distantes, fundindo-as a uma neblina luminosa — efeito obtido pelo emprego prematuro do óleo em sua obra artística —, uma evocação ao desenho do Vale do Arno e antecipação do fundo de Mona Lisa.\\n\\n\\n==== Vida profissional, 1476–1513 ====\\nDando início à carreira profissional de artista, o retrato de uma jovem foi encomendado diretamente a Leonardo. Marcante, o retrato possui uma forte presença iconográfica e uma austera amargura. Prematuramente noiva de Luigi di Bernardo di Lapo Niccolini, a juventude de Ginevra, filha de Amerigo Benci, um banqueiro, e possivelmente desejada do embaixador de Veneza, Bernardo Bembo alcançou a eternidade com esta pintura, encomendada provavelmente pelo último, embora seja sugerido que a encomenda tenha sido feita pela família da jovem em comemoração de seu casamento.A pintura, inicialmente maior, sofreu danos, e proprietários posteriores provavelmente a compactaram com um corte de cerca de nove centímetros em sua parte inferior. Tal suposição é sustentada pela pintura do reverso, e por um desenho preparatório de mãos, que seria da mesma jovem. O desenho encontra-se na Royal Library, Castelo de Windsor.Tem-se conta de que o nome da jovem e o da pintura formam um jogo iconográfico de palavras. Atrás da bela jovem, surge uma juniperus. A palavra italiana que define esta árvore é ginepro, significando genebra ou zimbro. Contudo, o significado renascentista da árvore era a pureza e a castidade. Esta ideia é reforçada pela frase inscrita no reverso da pintura, na qual está pintado um pergaminho com louros e uma palma, ambos em torno de um pequeno ramo de zimbro. No pergaminho há os seguintes dizeres: A beleza adorna a virtude (VIRTUTEM FORMA DECORAT).\\nA expressão facial da jovem é o mais intrigante na pintura. Olhando o espectador sem encarar, a incerteza dos seus sentimentos intriga os especialistas; não se sabe se está cansada, triste, serena, zangada, ou seja, um rol de sentimentos inacabáveis que a expressão facial lhe atribui. Uma jovem que oculta o íntimo, modesta, ausente de joias, tem como maior adorno a própria beleza natural como a paisagem que a cerca, o que poderia justificar a inscrição do reverso.\\n\\n\\n=== Obras da década de 1480 ===\\nNa década de 1480, Alta Renascença, recebeu três importantes encomendas e começou outro trabalho ainda, cujo tema abriu uma rotura em termos de composição. Infelizmente, dois desses três trabalhos nunca foram acabados (devido a sua partida para Milão) e o terceiro levou tanto tempo, que tornou-se alvo de longas negociações ao longo da sua execução e pagamento. Uma destas pinturas é São Jerônimo no Deserto. Esta pintura é associada com um período difícil da vida de Leonardo, e coincide com sinais de melancolia encontrados em seu diário: \"Achei que estava aprendendo a viver; estava apenas aprendendo a morrer.\" A composição da pintura foge às práticas costumeiras da época; São Jerônimo, como um penitente, ocupa o centro da figura, levemente inclinado diagonalmente, e visto quase que de cima. A sua forma, ao ajoelhar-se, adquire um contorno trapezoide, com um braço esticado à borda exterior da pintura, e seu olhar virado para a direção oposta; alguns estudiosos apontam na obra ligações com os estudos anatômicos de Leonardo.Outra composição um tanto quanto atrevida, os elementos paisagísticos e o drama pessoal ressoam na obra de arte inacabada: A Adoração dos Magos, encomenda dos monges de San Donato a Scopeto. É uma composição muito complexa sobre cerca de 250 cm de largura e comprimento de uma placa de madeira. Para este trabalho o artista esboçou vários desenhos e numerosos trabalhos e estudos preparatórios, incluindo um detalhe de uma perspectiva linear das ruínas de um edifício clássico. Mas em 1482 Leonardo saiu com destino a Milão por ordens de Lourenço de Médici, em tributo a Ludovico Sforza, o mouro, e a pintura e todo o trabalho que havia tido foi abandonada.\\n\\n\\n==== Em Milão, 1482–1499 ====\\nEm Milão, o primeiro registo de Leonardo da Vinci é um contrato de uma Confraria religiosa intitulada Imaculada Conceição, datado de 25 de abril de 1483, para a pintura de um retábulo para abrilhantar o altar da capela de São Francisco, o Grande. O resultado seria o terceiro mais importante trabalho pictórico do artista, A Virgem dos Rochedos.A encomenda era a execução de pinturas com a ajuda dos imãos Ambrogio e Evangelista de Predis, para um grande e complexo altar, já construído anteriormente por Giacomo da Maiano. Leonardo, encarregado do painel central, escolheu pintar um enfático momento da infância de Cristo, quando o pequeno João Baptista, com a proteção do anjo Uriel, conheceu a Sagrada Família numa gruta do Egito, cena da tradição cristã dos livros apócrifos e de uma Florença deixada para trás, de numerosas lendas sobre São João Batista. Neste cenário rochoso que evoca a um passeio de infância do artista ao Monte Ceceri (próximo do território florentino), João reconhece e adora Jesus como o Cristo. A pintura mostra uma misteriosa beleza como as graciosas figuras ajoelhadas em adoração em torno do Menino Jesus, em uma paisagem selvagem de queda de rochas e um vale de águas azuis, e coincide com a abandonada Adoração dos Magos devido ao seu naturalismo e contraste de luz e sombra (chiaroscuro), aqui distintamente visível. A pintura solenemente declara a riqueza do conhecimento estilístico do traje e da sua representação, a julgar pela concepção notável do vestuário de Uriel (que compete com a simples túnica enegrecida azul da Virgem), impressa numa figura sóbria e imponente, que perde lugar na segunda versão onde assume outra pose, desta feita mais singela, cedente a uma nova Virgem vestida de um manto de azul brilhante, suavizando o cenário áspero e contrastando com a representação da primeira versão. Apesar das avantajadas medidas, cerca de 200 por 120 cm (a segunda versão existente cerca de 190 por 120 cm), a pintura da Virgem nas Pedras não é tão complexa quanto a encomenda dos monges de São Donato, constando em cena somente quatro figuras em vez de cerca de cinquenta — cuja forma conjunta completa uma pirâmide triangular — numa paisagem rochosa, em vez de detalhes arquitetônicos. Eventualmente, a pintura foi acabada. De fato, duas versões desta pintura foram feitas, uma entregue a Confraria religiosa e a outra levada para a França pelo próprio Leonardo.Acredita-se que a versão do Louvre seja a primeira das versões, pintada entre 1483–1486, ou mais cedo. A segunda versão, pertencente a National Gallery desde 1880, foi vendida pela igreja em 1781, e, certamente, em 1785 tornou-se posse de Gavin Hamilton, que a levou para a Inglaterra, onde passou por várias coleções. Nesta versão é provável a participação de outros artistas como Ambrogio de Pedris, e, de certo modo, mesmo tratando-se de uma pintura mais madura, seu naturalismo perde lugar para um idealismo muito maior do que o da versão anterior. Atualmente, existe a especulação de uma outra versão (Versão Cheramy), em que Leonardo tenha participado, cronologicamente anterior a versão de Londres.\\n\\n\\n==== Encargos na Corte ====\\n\\nEntre 1487 e 1490, Leonardo assume uma posição de destaque na corte milanesa. O seu trabalho não se resumia a pintar, e entre outras coisas, também era responsável pela organização de festividades, trabalho que intimamente não o contentava; trabalhou vários anos na realização de uma estátua equestre para o antecessor de Ludovico, Francesco Sforza, que nunca concluiu devido a gastos na defesa e na edificação de estruturas defensivas, como arquiteto militar do duque. Leonardo também participou da decoração de quartos e apartamentos da corte (sendo somente parte da Salla delle Asse trabalhada por volta de 1498, o que restou deste encargo), e na decoração do refeitório dos padres dominicanos de Santa Maria delle Grazie (1495–1498).É nesta época de grandes feitos que inúmeros retratos de mulheres intimamente ligadas ao seu patrono são realizados, entre eles o retrato de uma jovem muito admirada na corte, cujo resultado seria uma mistura da linguagem iconográfica de Ginevra de\\' Benci e o naturalismo da Virgem dos Rochedos. Entre as suas obras acabadas ocupa uma posição de destaque um retrato de uma senhora da aristocracia, que segura nas mãos um arminho: o retrato de Cecília Gallerani, mundialmente conhecido como Dama com Arminho. Pintado por volta de 1488, o quadro concentra todas as inovações de Leonardo na época: a representação do rosto virado em uma posição de três-quartos, o gesto da mão, a definição da forma pela luz e a representação do movimento interrompido visando uma estrutura helicoidal. Cecília parece reagir à presença de alguém fora da pintura, em um movimento de giros de cabeça e tronco, o arminho de tamanho um tanto exagerado, repete-lhe o gesto, a mão curvada elegantemente corresponde, por sua vez, ao movimento do animal, criando um sintonia entre modelo e o arminho.De fato, a linguagem iconográfica utilizada por Leonardo nesta obra — que nos remete a uma pintura de sua fase inicial, a Ginevra de\\' Benci —, fez com que permanecessem vários mistérios em relação ao simbolismo do arminho. Acredita-se que o arminho é uma alusão ao apelido da jovem aristocrata, visto que o som de «Gallerani» é remanescente da acepção grega para arminho, \"galée\". Noutra vertente, o animal é considerado um sinal de pureza, pois, acreditava-se, o arminho preferia morrer em uma caçada, do que se refugiar em alguma toca, para não sujar seu manto branco. Porém, a razão mais provável é a terceira, ou seja, a alusão a Ludovico Sforza. A jovem era a amante de eleição de Ludovico e, a partir de meados de 1488, este começou a usar o arminho como um dos seus emblemas. Assim Ludovico, sob a simbólica forma de animal, surge no regaço da jovem, bem penteado e acariciado pelas mãos da sua amante. Existem provas documentais de que o quadro pertenceu a retratada.\\n\\n\\n=== Obras da década de 1490 ===\\nRetratos de PerfilO Retrato de Mulher de Perfil (c. 1493–1495), trata-se do retrato da esposa de Ludovico Sforza, Beatriz d\\'Este. Pintado, provavelmente, por Ambrogio de Pedris, com a qualidade do traço da cabeça da retratada sugerindo, segundo Martin Kemp, professor emérito de pesquisa em história da arte na Universidade de Oxford, que Leonardo tenha participado da pintura, se responsabilizando pelas bases do desenho. A atribuição é reforçada de forma recíproca com a atribuição de um quadro a que, inicialmente, foi dada origem alemã, do século XIX, mas que foi, em 2009, atribuído a Leonardo. Trata-se de um retrato de mulher igualmente de perfil e com características semelhantes ao retrato de Cecília Gallerani, que foi identificado graças a uma impressão digital e análises científicas. Inicialmente denominado Mulher de Perfil com Vestido da Renascença, foi renomeado de La Bella Principessa por Kemp, que identificou a retratada como Bianca Sforza, filha de Ludovico Sforza e sua amante Bernardina de Corradis. Os membros da família Sforza sempre foram retratados em perfil, em contraste com as amantes de Ludovico que não eram. Por volta deste período datam-se mais dois retratos atribuídos ao artista, o inacabado Retrato de um Músico, seu único retrato pictórico masculino e La Belle Ferronière, retrato de Lucrezia Crivelli, amante de Ludovico, encerrando um ciclo de retratos femininos na corte milanesa. Há uma referência documentada de uma encomenda, possivelmente do duque Ludovico Sforza, presente em uma lista que instruía um de seus funcionários, Marchesino Stanga, com tarefas que lhe exigiam atenção.\\n\\nA pintura mais famosa de Leonardo, da década de 1490, é A Última Ceia (1495–1498), pintada no refeitório dos padres dominicanos de Santa Maria delle Grazie em Milão. É uma obra fundamental da história da Arte. A pintura apresenta a Última Ceia, partilhada por Jesus com seus discípulos, antes de sua captura e execução. Mostra o momento específico em que Jesus, de acordo com o relato bíblico, teria dito aos apóstolos que um deles o trairia. Leonardo mostra a consternação que esta afirmação provocou entre os doze seguidores de Jesus.Isto, de acordo com Vasari, estava além da compreensão do prior, que o atormentou até que Leonardo pedisse a intervenção de Ludovico. Vasari descreve como Leonardo, atormentado com a dúvida de sua capacidade de retratar os rostos de Cristo e do traidor Judas, disse ao duque que seria obrigado a usar o próprio prior como seu modelo.Quando terminada, a pintura foi aclamada como uma obra-prima do desenho e da caracterização, porém rapidamente deteriorou-se, a tal ponto que, cem anos depois de seu término, a obra foi descrita por um observador seu como \"completamente arruinada\". Leonardo, em vez de usar a técnica mais confiável do afresco, utilizou-se da têmpera sobre uma superfície feita basicamente de gesso — o que resultou num material sujeito ao mofo e a esfarelar-se. Apesar disso, a pintura continua a ser uma das obras de arte mais reproduzidas de todos os tempos, e incontáveis cópias suas são feitas corriqueiramente, das maneiras mais variadas — de tapetes a camafeus.Explode em Milão a Segunda Guerra Italiana (1499–1504), e Ludovico Sforza é deposto. Após a destruição de seu modelo em argila para o Gran Cavallo pelas tropas francesas, Leonardo sente-se fortemente motivado a abandonar a cidade. Acompanhado de Salai e seu amigo Luca Pacioli parte, passando por Mântua e depois Veneza, sendo aí empregado como engenheiro e arquiteto militar, e, no ano seguinte, vai para Florença.\\n\\n\\n=== Obras da década de 1500 ===\\n\\n\\n==== Retorno a Florença, 1500–1506 ====\\nEm Florença estão documentadas uma ou duas pequenas pinturas da Virgem com o Menino, trabalhadas por Leonardo e seu ateliê, por volta de 1501 em uma carta de Pietro da Novellara para Isabella d\\'Este, a grande dama do Renascimento protetora das artes em Mântua. A pintura da Virgem do Fuso — como no caso da Virgem dos Rochedos com mais de uma versão —, destinava-se ao secretário de Estado francês Florimond Robertet, sendo-lhe entregue, provavelmente, uma de suas versões em 1507, em Blois.A Virgem do Fuso retrata uma cena de um forte vínculo entre mãe e filho — um amor maternal que se repetiria em pinturas como A Virgem e o Menino com Santa Ana —, o que leva a crer que a pintura fosse destinada a devoção privada. O nome da obra baseia-se no fuso de significado ambíguo presente na pintura. Ao longo dos tempos, vários críticos têm atribuído diversas interpretações ao fuso, mas o mais certo é mesmo que represente uma cruz, mas simplesmente, de forma simbólica.De fato, a enorme inteligência e criatividade de Leonardo permitiam-lhe tratar todos os assuntos que lhe provocavam algum interesse recorrendo a símbolos. Caso queira representar uma cruz, especialistas apontam duas hipóteses, sendo a mais provável a segunda. Muitos creem, baseando-se nas cópias existentes, que o Menino mira o fuso (simbolicamente, a cruz) com uma devoção perplexa, reforçada pela expressão do seu olhar, que parece agradado com o objeto que tem em mãos. No entanto, em segunda hipótese está a ideia de que o Menino brinca com o fuso com alegria, o que seria considerado uma heresia na altura em que foi pintada, caso este represente uma cruz. A imagem de Jesus brincando com a cruz não seria aceita pela conservadora sociedade, e menos ainda pela Igreja e pelo Tribunal Inquisidor, o que reforçaria os fins de devoção privada. Atualmente, existem duas versões associadas a Leonardo, mas as atribuições não são unânimes. É provável que as pinturas sejam cópias do original de Leonardo, de autoria dos pupilos do artista, com ou sem o auxílio do mestre.Entre as obras realizadas por Leonardo na década de 1500 está um pequeno retrato, conhecido como Mona Lisa ou La Gioconda, \"a risonha\". A pintura é famosa principalmente pelo sorriso elusivo no rosto da retratada, e pela qualidade misteriosa, possivelmente provocada pelo fato de que o artista sombreou sutilmente os cantos de sua boca e olhos, para que a natureza exata do sorriso não pudesse ser determinada. Este sombreado peculiar, pelo qual a obra é conhecida, veio a ser chamado de sfumato (\"esfumaçado\"). Vasari, que se acredita ter conhecido a pintura apenas pela sua reputação, disse que o seu \"sorriso era tão agradável que parecia ser divino, em vez de humano; e aqueles que o viram ficaram espantados ao descobrir que ele parecia tão vivo quanto o original\".\\n\\nOutra característica observada nesta obra é o vestido sem adornos (uma maneira de evitar que o espectador não tenha a sua atenção desviada dos olhos e das mãos da retratada), o cenário de fundo, dramático, no qual o mundo parece estar no estado de fluxo contínuo, com uma coloração controlada, e a natureza extremamente suave da técnica de pintura, que emprega tintas a óleo aplicadas como se fossem têmpera, e misturadas de tal maneira na superfície que as pinceladas não podem ser percebidas. Vasari expressou a opinião de que a maneira com que Leonardo fez a pintura faria mesmo \"o mais confiante dos mestres (…) desesperar-se e desanimar\". O estado perfeito de conservação em que a pintura se encontra, e o fato de que não existem outros sinais de reparos relevantes ou pinturas sobrepostas é extremamente raro numa pintura desta idade.A identidade do modelo é motivo de controvérsias, acredita-se que seja Lisa del Giocondo (Lisa Gherardini), mulher de um comerciante florentino, Francesco del Giocondo, com base em notas escritas de Agostino Vespucci de 1503 em um livro impresso de Cícero, de 1477 (parte do acervo de livros datados da primeira fase da imprensa), encontradas na Biblioteca da Universidade de Heidelberg, confirmando a afirmação de Vasari, que identificou a pintura como \"Monalisa\" em sua publicação em 1550, em referência à Lisa del Giocondo. Descobriu-se também que Lisa tinha sido mãe recentemente, e o retrato foi realizado possivelmente em comemoração da recente maternidade. Esta teoria é reforçada pela descoberta de um fino véu negro — utilizado pelas aristocratas toscanas durante, e alguns meses após a gestação —, durante pesquisas do Centro de Pesquisa e Restauração dos Museus da França (C2RMF) e o Conselho Nacional de Pesquisas do Canadá (NRC), quando a pintura foi submetida ao exame em infravermelho.Lillian Schwartz, cientista dos Laboratórios Bell, sugere que a Mona Lisa é, na verdade, um autorretrato de Leonardo, porém, vestido de mulher. Esta teoria baseia-se no estudo da análise digital das características faciais do rosto de Leonardo e os traços do modelo. Comparando um autorretrato de Leonardo com a mulher do quadro, verifica-se que as características dos rostos alinham-se perfeitamente. Essa hipótese ganha ênfase em O Código da Vinci, best-seller de Dan Brown. O quadro está exposto no Museu do Louvre desde 1804 e é a maior atração dos seis milhões de visitantes anuais do museu. Em 1506, o então governador francês do ducado de Milão, Charles d\\'Amboise, solicitou ao governo de Florença a permissão para a viagem de Leonardo a Milão, para resolver o problema de trabalhos pendentes. A permissão concedida era de três meses, entretanto, o artista acabou permanecendo na cidade mais tempo do que o previsto.\\n\\n\\n==== Retorno a Milão, 1506–1513 ====\\n\\nNão se sabe ao certo a natureza da origem do trabalho inacabado, é sugerido tratar-se da Virgem dos Rochedos versão de Londres, em que, em uma sentença judicial datada de 27 de abril, era cobrada a finalização da pintura à Leonardo e Ambrogio de Pedris. Possivelmente, a pintura inicial tratava de uma cena de adoração ao Menino Jesus, já que exames em infravermelho realizados em 2005 revelaram uma pintura diferente oculta, por baixo da versão visível, entretanto, Leonardo retomou a composição da anterior Virgem dos Rochedos de 1483, com leves alterações, e figuras maiores e mais monumentais do que a versão anterior. O fator da execução da mesma pintura é alvo de controvérsias, mas sabe-se que a versão de Londres foi a entregue, de fato, a confraria, mesmo provavelmente, ainda inacabada, e a anterior ficou em mãos de Leonardo.Leonardo teve uma estranha carreira, de não cumprimento de prazos, de encomendas inconcluídas ou mesmo jamais entregues, o que resultava em clientes insatisfeitos e frequentes cobranças. Destes trabalhos inacabados, parece existir um importante que retoma as posições oblíquas de pinturas anteriores como São Jerônimo no Deserto, e cuja origem não é necessariamente de uma encomenda.Nessa nova pintura, a coroação dos muitos desenhos e esboços do tema, abordado pelo artista em diversas ocasiões como em A Virgem, o Menino, Sant\\'Ana e São João Batista, Leonardo emprega novamente o sutil efeito do sfumato. A pintura retrata a Virgem Maria (cujo manto parece evocar a igualmente oblíqua Virgem Benois, uma de suas primeiras Madonas), seu filho Jesus e sua mãe Santa Ana, avó de Jesus, em uma cena privada e intimista. O que faz esta pintura incomum é que há duas figuras posicionadas obliquamente, sobrepostas. Maria está sentada no joelho de sua mãe, Santa Ana. Ela se inclina para frente para segurar o menino Jesus que brinca (um tanto grosseiramente) com um cordeiro, sinal de seu próprio e vindouro sacrifício. Essa pintura copiada muitas vezes, foi influência para Michelangelo, Rafael e Andrea del Sarto, e através deles Pontormo e Correggio. Na composição, Leonardo mostra novidades que serão adotadas principalmente pelos pintores venezianos Tintoretto e Veronese. Essa pintura assim como Mona Lisa acompanharia Leonardo desde então, entretanto devido a problemas, ficou por concluir.\\n\\n\\n=== Últimas obras ===\\n\\nEm 1512, Massimiliano Sforza, filho de Ludovico toma posse do ducado de Milão, após a expulsão das tropas francesas de Luís XII, e Leonardo viu-se sem patrono. Em 1513, o filho de Lourenço il Magnifico, Juliano de Médici, o então chefe do estado de Florença, fez um convite para Leonardo viajar a Roma, que estava sobre o controle do seu irmão mais velho, Giovanni (João), agora Papa Leão X.\\n\\n\\n==== Em Roma, 1513–1516 ====\\nEm 1513, Leonardo está hospedado no Palácio do Belvedere, no Vaticano, onde residiria até 1516, época em que seu rival Michelangelo e Rafael eram ativos em Roma. Leonardo então sente-se envolvido em crescentes problemas resultantes de seu afastamento da corte — incluindo intrigas com Michelangelo —, e depois é acusado e punido pelo papado devido aos seus estudos anatômicos, sendo proibido de continuar seus estudos por possíveis irregularidades sacrílegas, sendo que de seu patrono, Juliano, não houve nenhuma intervenção.Suas últimas pinturas datam deste período em que o avanço de um problema de articulação em uma das mãos o faz aos poucos perder as forças, sendo que após esse período não pinta mais. Suas últimas pinturas são São João Batista em que novamente emprega o sutil efeito do Sfumato, Leda e o Cisne seu único nu, hoje perdido, e devido a fraqueza de sua mão, estava incapaz de dar continuidade a Virgem e o Menino com Santa Ana, que leva consigo, juntamente de outras pinturas como Mona Lisa para a França em 1516, onde viveria seus últimos anos acompanhado de Salai e Francesco Melzi, seu pupilo preferido.\\n\\n\\n== Cientista e inventor ==\\n\\n\\n=== Introdução ===\\n\\nO humanismo renascentista não via polaridades mutuamente exclusivas entre as ciências e as artes, sendo os estudos de Leonardo, em ciências e engenharia, tão impressionantes e inovadores como o seu trabalho artístico, gravados em cadernos compostos por cerca de 13 000 páginas de notas e desenhos que fundem arte e filosofia natural (precursora da ciência moderna). Estas notas foram feitas e mantidas cotidianamente durante toda a vida de Leonardo e suas viagens, como ele fez em suas observações contínuas do mundo ao seu redor.Os cadernos são, em sua maioria, escritos de forma invertida (da direita para a esquerda). A razão pode ter sido mais uma oportunidade prática, do que por razões de sigilo como muitas vezes é sugerido. Sendo Leonardo provavelmente canhoto, é possível que lhe era mais fácil escrever da direita para a esquerda.Suas anotações e desenhos mostram uma enorme gama de interesses e preocupações, algumas tão banais como as listas de compras e as pessoas que lhe deviam dinheiro, e outras tão intrigantes como desenhos de asas e sapatos para caminhar sobre a água. Há composições de pinturas, estudos de detalhes e planejamentos, estudos de rostos e gestos, de animais, bebês, dissecações, estudo de plantas, formações rochosas, piscinas de hidromassagem, máquinas de guerra, helicópteros e arquitetura.Essas páginas de cadernos originalmente soltas, de diferentes tamanhos, distribuídas após sua morte, encontraram caminho em coleções importantes, como a Royal Library do Castelo de Windsor, o Museu do Louvre, a Biblioteca Nacional da Espanha, o Museu Vitória e Alberto, a Biblioteca Ambrosiana de Milão, que detém os doze volumes Codex Atlanticus, e a Biblioteca Britânica em Londres, que disponibilizou de forma on-line uma seleção a partir do seu caderno BL Arundel MS 263. O Codex Leicester é a única grande obra científica de Leonardo em mãos privadas. É propriedade de Bill Gates e é exibido uma vez por ano em diferentes cidades pelo mundo.Os estudos de Leonardo parecem ter sido destinados à publicação, porque muitas das folhas têm uma forma e ordem que facilitam a mesma. Em muitos casos, um único tópico, por exemplo, o coração ou o feto humano, é abordado em detalhes em palavras e imagens, em uma única folha.\\n\\n\\n=== Estudos científicos ===\\nLeonardo tentou entender os fenômenos e descrevendo em detalhe extremo, e não enfatizou experiências ou explicações teóricas. Ao longo de sua vida, planejou uma enciclopédia baseado em desenhos detalhados de tudo. Como não dominava o latim e a matemática, o Leonardo da Vinci cientista era ignorado pelos estudiosos contemporâneos, como evoca sua famosa frase uomo senza lettere, em que claramente se refere a tais limitações. Na década de 1490, estudou matemática com seu amigo, o matemático Luca Pacioli e preparou uma série de gravuras — incluindo o Homem Vitruviano — para ilustrar o livro de Pacioli, De Divina Proportioni, publicado em 1509.Parece que a partir do conteúdo de seus diários estava planejando uma série de tratados que seriam publicados em uma variedade de assuntos. Um tratado coerente sobre a anatomia foi dito ter sido observado durante a visita do cardeal secretário Louis D\\'Aragon, em 1517. Aspectos do seu trabalho sobre os estudos de anatomia, luz e de paisagem foram montados para a publicação por seu pupilo Francesco Melzi e, finalmente publicado como Trattato della Pittura de Leonardo da Vinci, postumamente na França e na Itália em 1651, e na Alemanha em 1724, com gravuras baseadas em desenhos do pintor clássico Nicolas Poussin. Segundo Arasse, o tratado, que na França foi publicado em sessenta e duas edições em cinquenta anos, ocasionou que Leonardo fosse visto como o precursor do pensamento acadêmico francês sobre a arte.Uma análise recente e exaustiva de Leonardo como cientista por Frtijof Capra defende que Leonardo era um tipo fundamentalmente diferente de cientistas como Galileu, Newton e outros cientistas que o seguiram. Sua experimentação seguiu claro, abordagens com métodos científicos, e juntamente a sua teorização e hipotética voltada às artes, particularmente na pintura, o fizeram um Leonardo único e integrado, em que pontos de vista holísticos da ciência, fazem dele um precursor dos modernos sistemas teóricos e complexas escolas de pensamento.\\n\\n\\n=== Anatomia ===\\n\\nA formação de Leonardo da anatomia do corpo humano iniciou-se com o seu aprendizado no ateliê de Andrea del Verrocchio, seu mestre insistia que todos os alunos deviam aprender anatomia. Como artista, ele rapidamente se tornou mestre da anatomia topográfica, realizando muitos estudos de músculos, tendões e outras características anatômicas visíveis. Como um artista de sucesso, ele recebeu a permissão para dissecar cadáveres humanos no Hospital de Santa Maria Nuova, em Florença e mais tarde no hospital de Milão e Roma. Entre 1510 e 1511, colaborou em seus estudos o médico Marcantonio della Torre, e juntos elaboraram um trabalho teórico sobre a anatomia, em que Leonardo fez mais de 200 desenhos. Foi publicado apenas em 1680 (161 anos após sua morte), integrando o Trattato della Pittura.Leonardo desenhou muitos estudos sobre o esqueleto humano e suas partes, bem como os músculos e nervos, o coração e o sistema vascular, os órgãos sexuais, e outros órgãos internos. Ele fez um dos primeiros desenhos científicos de um feto no útero. Como artista, Leonardo observou e registrou cuidadosamente os efeitos da idade e da emoção humana sobre a fisiologia, estudando em particular os efeitos da raiva. Ele também desenhou muitas figuras importantes que tinham deformidades faciais ou sinais de doença.Ele também estudou e desenhou a anatomia de animais diversos, bem como, dissecando vacas, aves, macacos, ursos e rãs, e comparava seus desenhos em sua estrutura anatômica com o dos seres humanos. Ele também fez uma série de estudos de cavalos.\\n\\n\\n=== Engenharia e invenções ===\\n\\nDurante sua vida, Leonardo era valorizado como um engenheiro. Em uma carta a Ludovico Sforza, o duque de Milão, afirmou ser capaz de criar todos os tipos de máquinas, tanto para a proteção de uma cidade, quanto para o cerco. Quando ele fugiu para Veneza em 1499, encontrou emprego como engenheiro e arquiteto militar e concebeu um sistema de barricadas móveis para proteger a cidade de um ataque naval. Ele também tinha um esquema para desviar o fluxo do rio Arno, um projeto no qual também trabalhou Nicolau Maquiavel. Os cadernos de Leonardo incluem um vasto número de invenções, alguns de possível construção, outros impossíveis. Eles incluem instrumentos musicais, bombas hidráulicas, canhões, entre outros.Em 1502, Leonardo da Vinci produziu um desenho de uma ponte como parte de um projeto de engenharia civil para o sultão Bajazeto II de Istambul. Nunca foi construída, mas a visão de Leonardo foi ressuscitada em 2001 quando uma ponte menor, baseada no projeto dele, foi construída na Noruega.Por maior parte de sua vida, Leonardo foi fascinado pelo fenômeno de voo, produzindo muitos estudos detalhados do voo dos pássaros, incluindo o seu Codex sobre o Voo dos Pássaros de 1505, bem como planos para várias máquinas voadoras, tentou aplicar seus estudos para os protótipos que desenhou, o primeiro batizado de SWAN DI VOLO (Cisne voador), segundo especialistas é de 1510, inclusive um helicóptero movimentado por quatro homens, e um planador cuja viabilidade já foi provada.\\n\\n\\n== Legado ==\\n\\nEm vida, a fama de Leonardo foi tamanha que o rei da França levou-o como um troféu, o mantendo na velhice, e o tinha preso nos braços quando morreu. O interesse por Leonardo nunca afrouxou. As multidões ainda fazem filas para ver suas obras mais famosas, seu desenho mais famoso, hoje é estampa de camisetas e  escritores, como Vasari, continuam a maravilhar-se com seu gênio e especular sobre sua vida privada e, particularmente, sobre o que uma pessoa tão inteligente realmente acreditava intimamente.Giorgio Vasari, na edição ampliada de Le vite de\\' più eccellenti pittori, scultori e architettori, 1568, apresenta o seu capítulo sobre Leonardo da Vinci com as seguintes palavras:\\n\\nA admiração por Leonardo continuou comandada a partir de pintores, críticos e historiadores, refletida em muitas outras homenagens escritas. Baldassare Castiglione, autor de Il Cortegiano (\"O Cortesão\"), escreveu em 1528: \"(...) Outro dos maiores pintores nesse mundo olha para baixo sobre esta arte em que ele é inigualável (...)\", enquanto o biógrafo conhecido como \"Anônimo Gaddiano\", escreve em 1540: \"Seu gênio era tão raro e universal, que pode-se dizer que a natureza fez um milagre em seu nome (...)\".\\n\\nO século XIX trouxe uma admiração especial pelo gênio de Leonardo, fazendo com que Henry Fuseli escrevesse em 1801: \"Tal foi o alvorecer da arte moderna, quando Leonardo da Vinci quebrou adiante com um esplendor que afastasse a excelência anterior: formada por todos os elementos que constituem a essência do gênio (...)\" Isto é ecoado por A. E. Rio, que escreveu em 1861: Ele elevou-se acima de todos os outros artistas com a força e a nobreza de seus talentos.\\'Por volta do século XIX, os cadernos de Leonardo já eram conhecidos, bem como suas pinturas. Hippolyte Taine escreveu em 1866: \"Não pode haver no mundo um exemplo de outro gênio tão universal, tão incapaz de cumprimento, tão cheio de desejo para o infinito, tão naturalmente refinado, tanto à frente do seu século, e os séculos seguintes\".O famoso historiador de arte Bernard Berenson escreveu em 1896: \"Leonardo é o artista, um dos quais pode-se dizer perfeito literalmente: nada do que tocou se transformou, se não em uma coisa de beleza eterna. Quer seja a seção transversal de um crânio, a estrutura de uma erva daninha, ou um estudo de músculos, ele, com seu sentimento de linha e de luz e sombra, sempre transformou isso em vida, comunicando valores\".O interesse pelo gênio de Leonardo continuou inabalável; especialistas estudam e traduzem seus escritos, analisam suas pinturas com técnicas científicas, discutem sobre atribuições e buscam por trabalhos que nunca foram encontrados. Assim fazendo dele umas das pessoas mais notáveis e notórias da história da humanidade.\\n\\n\\n== Notas ==\\n\\n\\n== Referências ==\\n\\n\\n=== Bibliografia ===\\n\\n\\n== Ligações externas ==\\n\\nEste artigo incorpora texto  (em inglês) da Encyclopædia Britannica (11.ª edição), publicação em domínio público.\\n Herbermann, Charles, ed. (1913). «Leonardo da Vinci». Enciclopédia Católica (em inglês). Nova Iorque: Robert Appleton Company \\n Obras de Leonardo da Vinci no Projeto Gutenberg\\n Leonardo da Vinci no Projeto Gutenberg \\nObras de ou sobre Leonardo da Vinci no Internet Archive'"
      ]
     },
     "execution_count": 26,
     "metadata": {},
     "output_type": "execute_result"
    }
   ],
   "source": [
    "result.content"
   ]
  },
  {
   "cell_type": "code",
   "execution_count": 27,
   "metadata": {},
   "outputs": [
    {
     "data": {
      "text/plain": [
       "['A Virgem de Granada',\n",
       " 'A Virgem do Cravo',\n",
       " 'A Virgem dos Rochedos',\n",
       " 'A Virgem e o Menino com Santa Ana']"
      ]
     },
     "execution_count": 27,
     "metadata": {},
     "output_type": "execute_result"
    }
   ],
   "source": [
    "result.links[9:13]"
   ]
  },
  {
   "cell_type": "code",
   "execution_count": 79,
   "metadata": {},
   "outputs": [],
   "source": [
    "df = pd.DataFrame(columns=['search_string', 'title', 'content', 'url', 'link1', 'link2','link3','link4'])"
   ]
  },
  {
   "cell_type": "code",
   "execution_count": 82,
   "metadata": {},
   "outputs": [],
   "source": [
    "search_list = wikipedia.search(\"Leonardo da Vinci\")\n",
    "count = 0\n",
    "for search_string in search_list:\n",
    "  result = wikipedia.page(search_string)\n",
    "  df.loc[count] = [search_string]"
   ]
  },
  {
   "cell_type": "code",
   "execution_count": 83,
   "metadata": {
    "scrolled": true
   },
   "outputs": [
    {
     "data": {
      "text/html": [
       "<div>\n",
       "<style scoped>\n",
       "    .dataframe tbody tr th:only-of-type {\n",
       "        vertical-align: middle;\n",
       "    }\n",
       "\n",
       "    .dataframe tbody tr th {\n",
       "        vertical-align: top;\n",
       "    }\n",
       "\n",
       "    .dataframe thead th {\n",
       "        text-align: right;\n",
       "    }\n",
       "</style>\n",
       "<table border=\"1\" class=\"dataframe\">\n",
       "  <thead>\n",
       "    <tr style=\"text-align: right;\">\n",
       "      <th></th>\n",
       "      <th>search_string</th>\n",
       "      <th>title</th>\n",
       "      <th>content</th>\n",
       "      <th>url</th>\n",
       "      <th>link1</th>\n",
       "      <th>link2</th>\n",
       "      <th>link3</th>\n",
       "      <th>link4</th>\n",
       "    </tr>\n",
       "  </thead>\n",
       "  <tbody>\n",
       "    <tr>\n",
       "      <th>0</th>\n",
       "      <td>Leonardo da Vinci (submarino de 1939)</td>\n",
       "      <td>Leonardo da Vinci (submarino de 1939)</td>\n",
       "      <td>Leonardo da Vinci (submarino de 1939)</td>\n",
       "      <td>Leonardo da Vinci (submarino de 1939)</td>\n",
       "      <td>Leonardo da Vinci (submarino de 1939)</td>\n",
       "      <td>Leonardo da Vinci (submarino de 1939)</td>\n",
       "      <td>Leonardo da Vinci (submarino de 1939)</td>\n",
       "      <td>Leonardo da Vinci (submarino de 1939)</td>\n",
       "    </tr>\n",
       "    <tr>\n",
       "      <th>1</th>\n",
       "      <td>A Última Ceia (Leonardo da Vinci)</td>\n",
       "      <td>A Última Ceia (Leonardo da Vinci)</td>\n",
       "      <td>A Última Ceia (em italiano:  L'Ultima Cena e t...</td>\n",
       "      <td>https://pt.wikipedia.org/wiki/A_%C3%9Altima_Ce...</td>\n",
       "      <td>Eixo</td>\n",
       "      <td>Estuque</td>\n",
       "      <td>Eucaristia</td>\n",
       "      <td>Evangelhos</td>\n",
       "    </tr>\n",
       "    <tr>\n",
       "      <th>2</th>\n",
       "      <td>Homem Vitruviano (desenho de Leonardo da Vinci)</td>\n",
       "      <td>Homem Vitruviano (desenho de Leonardo da Vinci)</td>\n",
       "      <td>O Homem Vitruviano de Leonardo da Vinci é um f...</td>\n",
       "      <td>https://pt.wikipedia.org/wiki/Homem_Vitruviano...</td>\n",
       "      <td>Gravidade</td>\n",
       "      <td>Homem vitruviano</td>\n",
       "      <td>International Standard Book Number</td>\n",
       "      <td>Intrínseca</td>\n",
       "    </tr>\n",
       "    <tr>\n",
       "      <th>3</th>\n",
       "      <td>Sexualidade de Leonardo da Vinci</td>\n",
       "      <td>Sexualidade de Leonardo da Vinci</td>\n",
       "      <td>A controvérsia sobre a sexualidade de Leonardo...</td>\n",
       "      <td>https://pt.wikipedia.org/wiki/Sexualidade_de_L...</td>\n",
       "      <td>Alemanha</td>\n",
       "      <td>Anunciação (Leonardo da Vinci)</td>\n",
       "      <td>Cabeça de Mulher</td>\n",
       "      <td>Cabeças Grotescas</td>\n",
       "    </tr>\n",
       "    <tr>\n",
       "      <th>4</th>\n",
       "      <td>Salvator Mundi (Leonardo da Vinci)</td>\n",
       "      <td>Salvator Mundi (Leonardo da Vinci)</td>\n",
       "      <td>Salvator Mundi é uma pintura de Jesus Cristo c...</td>\n",
       "      <td>https://pt.wikipedia.org/wiki/Salvator_Mundi_(...</td>\n",
       "      <td>Circa</td>\n",
       "      <td>Convexo</td>\n",
       "      <td>Dmitry Rybolovlev</td>\n",
       "      <td>Francis Cook</td>\n",
       "    </tr>\n",
       "    <tr>\n",
       "      <th>5</th>\n",
       "      <td>Vida pessoal de Leonardo da Vinci</td>\n",
       "      <td>Vida pessoal de Leonardo da Vinci</td>\n",
       "      <td>Leonardo da Vinci (15 de abril de 1452 – 2 de ...</td>\n",
       "      <td>https://pt.wikipedia.org/wiki/Vida_pessoal_de_...</td>\n",
       "      <td>A Virgem das Rochas</td>\n",
       "      <td>A Virgem de Granada</td>\n",
       "      <td>A Virgem do Cravo</td>\n",
       "      <td>A Virgem e o Menino com Santa Ana</td>\n",
       "    </tr>\n",
       "    <tr>\n",
       "      <th>6</th>\n",
       "      <td>O Código Da Vinci</td>\n",
       "      <td>O Código Da Vinci</td>\n",
       "      <td>The Da Vinci Code (O Código Da Vinci no Brasil...</td>\n",
       "      <td>https://pt.wikipedia.org/wiki/O_C%C3%B3digo_Da...</td>\n",
       "      <td>2006</td>\n",
       "      <td>2008</td>\n",
       "      <td>2009</td>\n",
       "      <td>ABC News</td>\n",
       "    </tr>\n",
       "    <tr>\n",
       "      <th>7</th>\n",
       "      <td>Lista de pinturas de Leonardo da Vinci</td>\n",
       "      <td>Lista de pinturas de Leonardo da Vinci</td>\n",
       "      <td>Esta é uma lista de pinturas devidas ou atribu...</td>\n",
       "      <td>https://pt.wikipedia.org/wiki/Lista_de_pintura...</td>\n",
       "      <td>1488</td>\n",
       "      <td>1490</td>\n",
       "      <td>1493</td>\n",
       "      <td>1495</td>\n",
       "    </tr>\n",
       "  </tbody>\n",
       "</table>\n",
       "</div>"
      ],
      "text/plain": [
       "                                     search_string  \\\n",
       "0            Leonardo da Vinci (submarino de 1939)   \n",
       "1                A Última Ceia (Leonardo da Vinci)   \n",
       "2  Homem Vitruviano (desenho de Leonardo da Vinci)   \n",
       "3                 Sexualidade de Leonardo da Vinci   \n",
       "4               Salvator Mundi (Leonardo da Vinci)   \n",
       "5                Vida pessoal de Leonardo da Vinci   \n",
       "6                                O Código Da Vinci   \n",
       "7           Lista de pinturas de Leonardo da Vinci   \n",
       "\n",
       "                                             title  \\\n",
       "0            Leonardo da Vinci (submarino de 1939)   \n",
       "1                A Última Ceia (Leonardo da Vinci)   \n",
       "2  Homem Vitruviano (desenho de Leonardo da Vinci)   \n",
       "3                 Sexualidade de Leonardo da Vinci   \n",
       "4               Salvator Mundi (Leonardo da Vinci)   \n",
       "5                Vida pessoal de Leonardo da Vinci   \n",
       "6                                O Código Da Vinci   \n",
       "7           Lista de pinturas de Leonardo da Vinci   \n",
       "\n",
       "                                             content  \\\n",
       "0              Leonardo da Vinci (submarino de 1939)   \n",
       "1  A Última Ceia (em italiano:  L'Ultima Cena e t...   \n",
       "2  O Homem Vitruviano de Leonardo da Vinci é um f...   \n",
       "3  A controvérsia sobre a sexualidade de Leonardo...   \n",
       "4  Salvator Mundi é uma pintura de Jesus Cristo c...   \n",
       "5  Leonardo da Vinci (15 de abril de 1452 – 2 de ...   \n",
       "6  The Da Vinci Code (O Código Da Vinci no Brasil...   \n",
       "7  Esta é uma lista de pinturas devidas ou atribu...   \n",
       "\n",
       "                                                 url  \\\n",
       "0              Leonardo da Vinci (submarino de 1939)   \n",
       "1  https://pt.wikipedia.org/wiki/A_%C3%9Altima_Ce...   \n",
       "2  https://pt.wikipedia.org/wiki/Homem_Vitruviano...   \n",
       "3  https://pt.wikipedia.org/wiki/Sexualidade_de_L...   \n",
       "4  https://pt.wikipedia.org/wiki/Salvator_Mundi_(...   \n",
       "5  https://pt.wikipedia.org/wiki/Vida_pessoal_de_...   \n",
       "6  https://pt.wikipedia.org/wiki/O_C%C3%B3digo_Da...   \n",
       "7  https://pt.wikipedia.org/wiki/Lista_de_pintura...   \n",
       "\n",
       "                                   link1  \\\n",
       "0  Leonardo da Vinci (submarino de 1939)   \n",
       "1                                   Eixo   \n",
       "2                              Gravidade   \n",
       "3                               Alemanha   \n",
       "4                                  Circa   \n",
       "5                    A Virgem das Rochas   \n",
       "6                                   2006   \n",
       "7                                   1488   \n",
       "\n",
       "                                   link2  \\\n",
       "0  Leonardo da Vinci (submarino de 1939)   \n",
       "1                                Estuque   \n",
       "2                       Homem vitruviano   \n",
       "3         Anunciação (Leonardo da Vinci)   \n",
       "4                                Convexo   \n",
       "5                    A Virgem de Granada   \n",
       "6                                   2008   \n",
       "7                                   1490   \n",
       "\n",
       "                                   link3  \\\n",
       "0  Leonardo da Vinci (submarino de 1939)   \n",
       "1                             Eucaristia   \n",
       "2     International Standard Book Number   \n",
       "3                       Cabeça de Mulher   \n",
       "4                      Dmitry Rybolovlev   \n",
       "5                      A Virgem do Cravo   \n",
       "6                                   2009   \n",
       "7                                   1493   \n",
       "\n",
       "                                   link4  \n",
       "0  Leonardo da Vinci (submarino de 1939)  \n",
       "1                             Evangelhos  \n",
       "2                             Intrínseca  \n",
       "3                      Cabeças Grotescas  \n",
       "4                           Francis Cook  \n",
       "5      A Virgem e o Menino com Santa Ana  \n",
       "6                               ABC News  \n",
       "7                                   1495  "
      ]
     },
     "execution_count": 83,
     "metadata": {},
     "output_type": "execute_result"
    }
   ],
   "source": [
    "df.head(10)"
   ]
  },
  {
   "cell_type": "code",
   "execution_count": 84,
   "metadata": {},
   "outputs": [
    {
     "data": {
      "text/html": [
       "<div>\n",
       "<style scoped>\n",
       "    .dataframe tbody tr th:only-of-type {\n",
       "        vertical-align: middle;\n",
       "    }\n",
       "\n",
       "    .dataframe tbody tr th {\n",
       "        vertical-align: top;\n",
       "    }\n",
       "\n",
       "    .dataframe thead th {\n",
       "        text-align: right;\n",
       "    }\n",
       "</style>\n",
       "<table border=\"1\" class=\"dataframe\">\n",
       "  <thead>\n",
       "    <tr style=\"text-align: right;\">\n",
       "      <th></th>\n",
       "      <th>search_string</th>\n",
       "      <th>title</th>\n",
       "      <th>content</th>\n",
       "      <th>url</th>\n",
       "      <th>link1</th>\n",
       "      <th>link2</th>\n",
       "      <th>link3</th>\n",
       "      <th>link4</th>\n",
       "    </tr>\n",
       "  </thead>\n",
       "  <tbody>\n",
       "    <tr>\n",
       "      <th>2</th>\n",
       "      <td>Homem Vitruviano (desenho de Leonardo da Vinci)</td>\n",
       "      <td>Homem Vitruviano (desenho de Leonardo da Vinci)</td>\n",
       "      <td>O Homem Vitruviano de Leonardo da Vinci é um f...</td>\n",
       "      <td>https://pt.wikipedia.org/wiki/Homem_Vitruviano...</td>\n",
       "      <td>Gravidade</td>\n",
       "      <td>Homem vitruviano</td>\n",
       "      <td>International Standard Book Number</td>\n",
       "      <td>Intrínseca</td>\n",
       "    </tr>\n",
       "  </tbody>\n",
       "</table>\n",
       "</div>"
      ],
      "text/plain": [
       "                                     search_string  \\\n",
       "2  Homem Vitruviano (desenho de Leonardo da Vinci)   \n",
       "\n",
       "                                             title  \\\n",
       "2  Homem Vitruviano (desenho de Leonardo da Vinci)   \n",
       "\n",
       "                                             content  \\\n",
       "2  O Homem Vitruviano de Leonardo da Vinci é um f...   \n",
       "\n",
       "                                                 url      link1  \\\n",
       "2  https://pt.wikipedia.org/wiki/Homem_Vitruviano...  Gravidade   \n",
       "\n",
       "              link2                               link3       link4  \n",
       "2  Homem vitruviano  International Standard Book Number  Intrínseca  "
      ]
     },
     "execution_count": 84,
     "metadata": {},
     "output_type": "execute_result"
    }
   ],
   "source": [
    "df[2:3]"
   ]
  },
  {
   "cell_type": "code",
   "execution_count": 85,
   "metadata": {},
   "outputs": [
    {
     "data": {
      "text/plain": [
       "'O Homem Vitruviano de Leonardo da Vinci é um famoso desenho que acompanhava as notas feitas pelo polímata por volta do ano 1490 num dos seus diários e é baseado na obra do arquiteto romano Vitrúvio. Descreve uma figura masculina nua separada e simultaneamente em duas posições sobrepostas com os braços inscritos num círculo e num quadrado. A cabeça é calculada como sendo um oitavo da altura total. Às vezes, o desenho e o texto são chamados de Cânone das Proporções.\\nO desenho atualmente faz parte da coleção da Gallerie dell\\'Accademia (Galeria da Academia) em Veneza, Itália.Examinando-se o desenho, pode ser notado que a combinação das posições dos braços e pernas formam quatro posturas diferentes. As posições com os braços em cruz e os pés são inscritas juntas no quadrado. Por outro lado, a posição superior dos braços e das pernas é inscrita no círculo. Isto ilustra o princípio que na mudança entre as duas posições, o centro aparente da figura parece se mover, mas de fato o umbigo da figura, que é o verdadeiro centro de gravidade, permanece imóvel.\\n\\n\\n== Proporções ==\\nO Homem Vitruviano é baseado numa famosa passagem do arquitecto/arquiteto romano Vitrúvio na sua série de dez livros intitulados de De Architectura, um tratado de arquitetura em que, no terceiro livro, ele descreve as proporções do corpo humano masculino:\\n\\num palmo é o comprimento de quatro dedos\\num pé é o comprimento de quatro palmos\\num côvado é o comprimento de seis palmos\\num passo são quatro côvados\\na altura de um homem é quatro côvados\\n\"erit eaque mensura ad manas pansas\"\\no comprimento dos braços abertos de um homem (envergadura dos braços) é igual à sua altura\\na distância entre a linha de cabelo na testa e o fundo do queixo é um décimo da altura de um homem\\na distância entre o topo da cabeça e o fundo do queixo é um oitavo da altura de um homem\\na distância entre o fundo do pescoço e a linha de cabelo na testa é um sexto da altura de um homem\\no comprimento máximo nos ombros é um quarto da altura de um homem\\na distância entre o meio do peito e o topo da cabeça é um quarto da altura de um homem\\na distância entre o cotovelo e a ponta da mão é um quarto da altura de um homem\\na distância entre o cotovelo e a axila é um oitavo da altura de um homem\\no comprimento da mão é um décimo da altura de um homem\\na distância entre o fundo do queixo e o nariz é um terço do comprimento do rosto\\na distância entre a linha de cabelo na testa e as sobrancelhas é um terço do comprimento do rosto\\no comprimento da orelha é um terço do da face\\no comprimento do pé é um sexto da alturaVitrúvio já havia tentado encaixar as proporções do corpo humano dentro da figura de um quadrado e um círculo, mas suas tentativas ficaram imperfeitas. Foi apenas com Leonardo que o encaixe saiu corretamente perfeito dentro dos padrões matemáticos esperados.O redescobrimento das proporções matemáticas do corpo humano no século XV por Leonardo e os outros é considerado uma das grandes realizações que conduzem ao Renascimento italiano.\\nO desenho também é considerado frequentemente como um símbolo da simetria básica do corpo humano e, por extensão, para o universo como um todo.\\n\\n\\n== Referências ==\\n\\n\\n== Ligações externas ==\\n«O Homem Vitruviano» \\nhttp://www.suapesquisa.com/leonardo/'"
      ]
     },
     "execution_count": 85,
     "metadata": {},
     "output_type": "execute_result"
    }
   ],
   "source": [
    "df.iloc[2,2]"
   ]
  },
  {
   "cell_type": "markdown",
   "metadata": {},
   "source": [
    "## Van Gogh"
   ]
  },
  {
   "cell_type": "code",
   "execution_count": 90,
   "metadata": {},
   "outputs": [],
   "source": [
    "df_2 = pd.DataFrame(columns=['search_string', 'title', 'content', 'url', 'link1', 'link2','link3','link4'])"
   ]
  },
  {
   "cell_type": "code",
   "execution_count": 95,
   "metadata": {},
   "outputs": [],
   "source": [
    "search_list = wikipedia.search(\"Van Gogh\")\n",
    "count = 100\n",
    "for search_string in search_list:\n",
    "  result = wikipedia.page(search_string)\n",
    "  df.loc[count] = [search_string]+[result.title]+[result.content]+[result.url]+[result.links[9:13][0]]+[result.links[9:13][1]]+[result.links[9:13][2]]+[result.links[9:13][3]]\n",
    "  count += 1"
   ]
  },
  {
   "cell_type": "code",
   "execution_count": 96,
   "metadata": {},
   "outputs": [
    {
     "data": {
      "text/html": [
       "<div>\n",
       "<style scoped>\n",
       "    .dataframe tbody tr th:only-of-type {\n",
       "        vertical-align: middle;\n",
       "    }\n",
       "\n",
       "    .dataframe tbody tr th {\n",
       "        vertical-align: top;\n",
       "    }\n",
       "\n",
       "    .dataframe thead th {\n",
       "        text-align: right;\n",
       "    }\n",
       "</style>\n",
       "<table border=\"1\" class=\"dataframe\">\n",
       "  <thead>\n",
       "    <tr style=\"text-align: right;\">\n",
       "      <th></th>\n",
       "      <th>search_string</th>\n",
       "      <th>title</th>\n",
       "      <th>content</th>\n",
       "      <th>url</th>\n",
       "      <th>link1</th>\n",
       "      <th>link2</th>\n",
       "      <th>link3</th>\n",
       "      <th>link4</th>\n",
       "    </tr>\n",
       "  </thead>\n",
       "  <tbody>\n",
       "    <tr>\n",
       "      <th>0</th>\n",
       "      <td>Vincent van Gogh</td>\n",
       "      <td>Vincent van Gogh</td>\n",
       "      <td>Vincent Willem van Gogh (holandês: [ˈvɪnsɛnt ˈ...</td>\n",
       "      <td>https://pt.wikipedia.org/wiki/Vincent_van_Gogh</td>\n",
       "      <td>A Grande Onda de Kanagawa</td>\n",
       "      <td>A Igreja de Auvers</td>\n",
       "      <td>A Italiana</td>\n",
       "      <td>A Noite Estrelada</td>\n",
       "    </tr>\n",
       "    <tr>\n",
       "      <th>1</th>\n",
       "      <td>Theo van Gogh (comerciante de arte)</td>\n",
       "      <td>Theo van Gogh (comerciante de arte)</td>\n",
       "      <td>Theodorus van Gogh (Zundert, 1 de maio de 1857...</td>\n",
       "      <td>https://pt.wikipedia.org/wiki/Theo_van_Gogh_(c...</td>\n",
       "      <td>1891</td>\n",
       "      <td>1914</td>\n",
       "      <td>1990</td>\n",
       "      <td>1 de maio</td>\n",
       "    </tr>\n",
       "    <tr>\n",
       "      <th>2</th>\n",
       "      <td>A Noite Estrelada</td>\n",
       "      <td>A Noite Estrelada</td>\n",
       "      <td>A Noite Estrelada é uma pintura de Vincent van...</td>\n",
       "      <td>https://pt.wikipedia.org/wiki/A_Noite_Estrelada</td>\n",
       "      <td>Albert Boime</td>\n",
       "      <td>Alpilles</td>\n",
       "      <td>Amendoeira em Flor</td>\n",
       "      <td>Apocalipse</td>\n",
       "    </tr>\n",
       "    <tr>\n",
       "      <th>3</th>\n",
       "      <td>Quarto em Arles</td>\n",
       "      <td>Quarto em Arles</td>\n",
       "      <td>Quarto em Arles é uma obra do pintor impressio...</td>\n",
       "      <td>https://pt.wikipedia.org/wiki/Quarto_em_Arles</td>\n",
       "      <td>A Siesta</td>\n",
       "      <td>A Vinha Encarnada</td>\n",
       "      <td>A cadeira de Gauguin</td>\n",
       "      <td>A casa amarela</td>\n",
       "    </tr>\n",
       "    <tr>\n",
       "      <th>4</th>\n",
       "      <td>Museu Van Gogh</td>\n",
       "      <td>Vincent van Gogh</td>\n",
       "      <td>Vincent Willem van Gogh (holandês: [ˈvɪnsɛnt ˈ...</td>\n",
       "      <td>https://pt.wikipedia.org/wiki/Vincent_van_Gogh</td>\n",
       "      <td>A Grande Onda de Kanagawa</td>\n",
       "      <td>A Igreja de Auvers</td>\n",
       "      <td>A Italiana</td>\n",
       "      <td>A Noite Estrelada</td>\n",
       "    </tr>\n",
       "  </tbody>\n",
       "</table>\n",
       "</div>"
      ],
      "text/plain": [
       "                         search_string                                title  \\\n",
       "0                     Vincent van Gogh                     Vincent van Gogh   \n",
       "1  Theo van Gogh (comerciante de arte)  Theo van Gogh (comerciante de arte)   \n",
       "2                    A Noite Estrelada                    A Noite Estrelada   \n",
       "3                      Quarto em Arles                      Quarto em Arles   \n",
       "4                       Museu Van Gogh                     Vincent van Gogh   \n",
       "\n",
       "                                             content  \\\n",
       "0  Vincent Willem van Gogh (holandês: [ˈvɪnsɛnt ˈ...   \n",
       "1  Theodorus van Gogh (Zundert, 1 de maio de 1857...   \n",
       "2  A Noite Estrelada é uma pintura de Vincent van...   \n",
       "3  Quarto em Arles é uma obra do pintor impressio...   \n",
       "4  Vincent Willem van Gogh (holandês: [ˈvɪnsɛnt ˈ...   \n",
       "\n",
       "                                                 url  \\\n",
       "0     https://pt.wikipedia.org/wiki/Vincent_van_Gogh   \n",
       "1  https://pt.wikipedia.org/wiki/Theo_van_Gogh_(c...   \n",
       "2    https://pt.wikipedia.org/wiki/A_Noite_Estrelada   \n",
       "3      https://pt.wikipedia.org/wiki/Quarto_em_Arles   \n",
       "4     https://pt.wikipedia.org/wiki/Vincent_van_Gogh   \n",
       "\n",
       "                       link1               link2                 link3  \\\n",
       "0  A Grande Onda de Kanagawa  A Igreja de Auvers            A Italiana   \n",
       "1                       1891                1914                  1990   \n",
       "2               Albert Boime            Alpilles    Amendoeira em Flor   \n",
       "3                   A Siesta   A Vinha Encarnada  A cadeira de Gauguin   \n",
       "4  A Grande Onda de Kanagawa  A Igreja de Auvers            A Italiana   \n",
       "\n",
       "               link4  \n",
       "0  A Noite Estrelada  \n",
       "1          1 de maio  \n",
       "2         Apocalipse  \n",
       "3     A casa amarela  \n",
       "4  A Noite Estrelada  "
      ]
     },
     "execution_count": 96,
     "metadata": {},
     "output_type": "execute_result"
    }
   ],
   "source": [
    "df.head()"
   ]
  },
  {
   "cell_type": "code",
   "execution_count": 97,
   "metadata": {},
   "outputs": [
    {
     "data": {
      "text/html": [
       "<div>\n",
       "<style scoped>\n",
       "    .dataframe tbody tr th:only-of-type {\n",
       "        vertical-align: middle;\n",
       "    }\n",
       "\n",
       "    .dataframe tbody tr th {\n",
       "        vertical-align: top;\n",
       "    }\n",
       "\n",
       "    .dataframe thead th {\n",
       "        text-align: right;\n",
       "    }\n",
       "</style>\n",
       "<table border=\"1\" class=\"dataframe\">\n",
       "  <thead>\n",
       "    <tr style=\"text-align: right;\">\n",
       "      <th></th>\n",
       "      <th>search_string</th>\n",
       "      <th>title</th>\n",
       "      <th>content</th>\n",
       "      <th>url</th>\n",
       "      <th>link1</th>\n",
       "      <th>link2</th>\n",
       "      <th>link3</th>\n",
       "      <th>link4</th>\n",
       "    </tr>\n",
       "  </thead>\n",
       "  <tbody>\n",
       "    <tr>\n",
       "      <th>105</th>\n",
       "      <td>Terraço do Café à Noite</td>\n",
       "      <td>Terraço do Café à Noite</td>\n",
       "      <td>Terraço do Café à Noite, cujo nome completo é ...</td>\n",
       "      <td>https://pt.wikipedia.org/wiki/Terra%C3%A7o_do_...</td>\n",
       "      <td>A Vinha Encarnada</td>\n",
       "      <td>A cadeira de Gauguin</td>\n",
       "      <td>Amendoeira em Flor</td>\n",
       "      <td>Arles</td>\n",
       "    </tr>\n",
       "    <tr>\n",
       "      <th>106</th>\n",
       "      <td>Van Gogh (1948)</td>\n",
       "      <td>Van Gogh (1948)</td>\n",
       "      <td>Van Gogh é um filme biográfico em curta-metrag...</td>\n",
       "      <td>https://pt.wikipedia.org/wiki/Van_Gogh_(1948)</td>\n",
       "      <td>AlloCiné</td>\n",
       "      <td>Amphibious Fighters</td>\n",
       "      <td>Angel and Big Joe</td>\n",
       "      <td>Aquatic House Party</td>\n",
       "    </tr>\n",
       "    <tr>\n",
       "      <th>107</th>\n",
       "      <td>Theo van Gogh (cineasta)</td>\n",
       "      <td>Theo van Gogh (cineasta)</td>\n",
       "      <td>Theodoor (Theo) van Gogh (Haia, 23 de Julho de...</td>\n",
       "      <td>https://pt.wikipedia.org/wiki/Theo_van_Gogh_(c...</td>\n",
       "      <td>AllMovie</td>\n",
       "      <td>AlloCiné</td>\n",
       "      <td>Alá</td>\n",
       "      <td>Amesterdão</td>\n",
       "    </tr>\n",
       "    <tr>\n",
       "      <th>108</th>\n",
       "      <td>Doze Girassóis numa Jarra</td>\n",
       "      <td>Doze Girassóis numa Jarra</td>\n",
       "      <td>Os Doze girassóis numa jarra é uma pintura do ...</td>\n",
       "      <td>https://pt.wikipedia.org/wiki/Doze_Girass%C3%B...</td>\n",
       "      <td>A Vinha Encarnada</td>\n",
       "      <td>A cadeira de Gauguin</td>\n",
       "      <td>Amendoeira em Flor</td>\n",
       "      <td>Anatomia</td>\n",
       "    </tr>\n",
       "    <tr>\n",
       "      <th>109</th>\n",
       "      <td>A Cadeira de Van Gogh com Cachimbo</td>\n",
       "      <td>A Cadeira de Van Gogh com Cachimbo</td>\n",
       "      <td>A Cadeira de Van Gogh com Cachimbo é uma obra ...</td>\n",
       "      <td>https://pt.wikipedia.org/wiki/A_Cadeira_de_Van...</td>\n",
       "      <td>A cadeira de Gauguin</td>\n",
       "      <td>Amendoeira em Flor</td>\n",
       "      <td>Auto-Retrato Dedicado a Paul Gauguin</td>\n",
       "      <td>Auto-Retrato com Chapéu de Palha</td>\n",
       "    </tr>\n",
       "  </tbody>\n",
       "</table>\n",
       "</div>"
      ],
      "text/plain": [
       "                          search_string                               title  \\\n",
       "105             Terraço do Café à Noite             Terraço do Café à Noite   \n",
       "106                     Van Gogh (1948)                     Van Gogh (1948)   \n",
       "107            Theo van Gogh (cineasta)            Theo van Gogh (cineasta)   \n",
       "108           Doze Girassóis numa Jarra           Doze Girassóis numa Jarra   \n",
       "109  A Cadeira de Van Gogh com Cachimbo  A Cadeira de Van Gogh com Cachimbo   \n",
       "\n",
       "                                               content  \\\n",
       "105  Terraço do Café à Noite, cujo nome completo é ...   \n",
       "106  Van Gogh é um filme biográfico em curta-metrag...   \n",
       "107  Theodoor (Theo) van Gogh (Haia, 23 de Julho de...   \n",
       "108  Os Doze girassóis numa jarra é uma pintura do ...   \n",
       "109  A Cadeira de Van Gogh com Cachimbo é uma obra ...   \n",
       "\n",
       "                                                   url                 link1  \\\n",
       "105  https://pt.wikipedia.org/wiki/Terra%C3%A7o_do_...     A Vinha Encarnada   \n",
       "106      https://pt.wikipedia.org/wiki/Van_Gogh_(1948)              AlloCiné   \n",
       "107  https://pt.wikipedia.org/wiki/Theo_van_Gogh_(c...              AllMovie   \n",
       "108  https://pt.wikipedia.org/wiki/Doze_Girass%C3%B...     A Vinha Encarnada   \n",
       "109  https://pt.wikipedia.org/wiki/A_Cadeira_de_Van...  A cadeira de Gauguin   \n",
       "\n",
       "                    link2                                 link3  \\\n",
       "105  A cadeira de Gauguin                    Amendoeira em Flor   \n",
       "106   Amphibious Fighters                     Angel and Big Joe   \n",
       "107              AlloCiné                                   Alá   \n",
       "108  A cadeira de Gauguin                    Amendoeira em Flor   \n",
       "109    Amendoeira em Flor  Auto-Retrato Dedicado a Paul Gauguin   \n",
       "\n",
       "                                link4  \n",
       "105                             Arles  \n",
       "106               Aquatic House Party  \n",
       "107                        Amesterdão  \n",
       "108                          Anatomia  \n",
       "109  Auto-Retrato com Chapéu de Palha  "
      ]
     },
     "execution_count": 97,
     "metadata": {},
     "output_type": "execute_result"
    }
   ],
   "source": [
    "df.tail()"
   ]
  },
  {
   "cell_type": "code",
   "execution_count": null,
   "metadata": {},
   "outputs": [],
   "source": []
  }
 ],
 "metadata": {
  "colab": {
   "collapsed_sections": [],
   "name": "wikipedia_api.ipynb",
   "provenance": []
  },
  "kernelspec": {
   "display_name": "Python 3",
   "language": "python",
   "name": "python3"
  },
  "language_info": {
   "codemirror_mode": {
    "name": "ipython",
    "version": 3
   },
   "file_extension": ".py",
   "mimetype": "text/x-python",
   "name": "python",
   "nbconvert_exporter": "python",
   "pygments_lexer": "ipython3",
   "version": "3.8.8"
  }
 },
 "nbformat": 4,
 "nbformat_minor": 1
}
